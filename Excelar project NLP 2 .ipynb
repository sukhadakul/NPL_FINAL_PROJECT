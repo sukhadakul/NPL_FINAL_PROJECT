{
 "cells": [
  {
   "cell_type": "code",
   "execution_count": 1,
   "id": "6660886d",
   "metadata": {
    "ExecuteTime": {
     "end_time": "2023-07-08T07:03:40.977300Z",
     "start_time": "2023-07-08T07:03:39.192020Z"
    }
   },
   "outputs": [],
   "source": [
    "import pandas as pd \n",
    "import numpy as np \n",
    "import matplotlib.pyplot as plt\n",
    "import itertools\n",
    "import seaborn as sns "
   ]
  },
  {
   "cell_type": "code",
   "execution_count": 2,
   "id": "51a304d3",
   "metadata": {
    "ExecuteTime": {
     "end_time": "2023-07-08T07:03:53.640069Z",
     "start_time": "2023-07-08T07:03:53.627964Z"
    }
   },
   "outputs": [],
   "source": [
    "import warnings\n",
    "warnings.filterwarnings('ignore') "
   ]
  },
  {
   "cell_type": "code",
   "execution_count": 3,
   "id": "93f86557",
   "metadata": {
    "ExecuteTime": {
     "end_time": "2023-07-08T07:04:51.860026Z",
     "start_time": "2023-07-08T07:04:50.579896Z"
    }
   },
   "outputs": [],
   "source": [
    "fake=pd.read_csv('Fake.csv',encoding='latin-1')\n",
    "true=pd.read_csv('True1 (1).csv',encoding='latin-1',error_bad_lines=False)  "
   ]
  },
  {
   "cell_type": "code",
   "execution_count": 26,
   "id": "f00ca17f",
   "metadata": {
    "ExecuteTime": {
     "end_time": "2023-07-08T07:12:30.124201Z",
     "start_time": "2023-07-08T07:12:29.834667Z"
    }
   },
   "outputs": [],
   "source": [
    "# Concatenate the Unnamed 4 and 5 datas in text column\n",
    "drop_cols = fake.columns[4:]\n",
    "fake= fake.drop(columns=drop_cols) \n",
    "#Duplicated rows\n",
    "fake[fake.duplicated(keep=False)]  \n",
    "# Drop duplicated records\n",
    "fake.drop_duplicates(inplace=True)  "
   ]
  },
  {
   "cell_type": "code",
   "execution_count": 45,
   "id": "020e18ad",
   "metadata": {
    "ExecuteTime": {
     "end_time": "2023-07-08T07:14:12.269455Z",
     "start_time": "2023-07-08T07:14:11.996774Z"
    }
   },
   "outputs": [],
   "source": [
    "# Convert date to datetime format\n",
    "\n",
    "fake['date'] = pd.to_datetime(fake['date'], errors = 'coerce')\n",
    "true['date'] = pd.to_datetime(true['date'], errors = 'coerce')\n",
    "fake = fake.dropna()  "
   ]
  },
  {
   "cell_type": "code",
   "execution_count": 46,
   "id": "4f413619",
   "metadata": {
    "ExecuteTime": {
     "end_time": "2023-07-08T07:14:39.781629Z",
     "start_time": "2023-07-08T07:14:39.766668Z"
    }
   },
   "outputs": [],
   "source": [
    "# Extract the year from the date column\n",
    "\n",
    "fake['year'] = fake['date'].dt.year \n",
    "true['year'] = true['date'].dt.year"
   ]
  },
  {
   "cell_type": "code",
   "execution_count": 47,
   "id": "94fd8fc6",
   "metadata": {
    "ExecuteTime": {
     "end_time": "2023-07-08T07:15:05.158510Z",
     "start_time": "2023-07-08T07:15:05.142500Z"
    }
   },
   "outputs": [],
   "source": [
    "fake['year'] = fake['date'].dt.year.fillna(0).astype(int)\n",
    "true['year'] = true['date'].dt.year.fillna(0).astype(int) "
   ]
  },
  {
   "cell_type": "code",
   "execution_count": 49,
   "id": "ef2b3426",
   "metadata": {
    "ExecuteTime": {
     "end_time": "2023-07-08T07:15:24.180932Z",
     "start_time": "2023-07-08T07:15:24.152932Z"
    },
    "scrolled": true
   },
   "outputs": [
    {
     "data": {
      "text/plain": [
       "array([2017, 2016, 2018, 2015])"
      ]
     },
     "execution_count": 49,
     "metadata": {},
     "output_type": "execute_result"
    }
   ],
   "source": [
    "fake.year.unique()  "
   ]
  },
  {
   "cell_type": "code",
   "execution_count": 50,
   "id": "d88603a4",
   "metadata": {
    "ExecuteTime": {
     "end_time": "2023-07-08T07:15:42.070468Z",
     "start_time": "2023-07-08T07:15:42.055023Z"
    }
   },
   "outputs": [
    {
     "data": {
      "text/plain": [
       "array([2017, 2016])"
      ]
     },
     "execution_count": 50,
     "metadata": {},
     "output_type": "execute_result"
    }
   ],
   "source": [
    "true.year.unique()  "
   ]
  },
  {
   "cell_type": "code",
   "execution_count": null,
   "id": "637c697c",
   "metadata": {},
   "outputs": [],
   "source": []
  },
  {
   "cell_type": "code",
   "execution_count": null,
   "id": "04e2f47a",
   "metadata": {},
   "outputs": [],
   "source": []
  },
  {
   "cell_type": "code",
   "execution_count": 27,
   "id": "95168582",
   "metadata": {
    "ExecuteTime": {
     "end_time": "2023-07-08T07:12:30.905441Z",
     "start_time": "2023-07-08T07:12:30.869085Z"
    }
   },
   "outputs": [
    {
     "name": "stdout",
     "output_type": "stream",
     "text": [
      "<class 'pandas.core.frame.DataFrame'>\n",
      "Int64Index: 23479 entries, 0 to 23501\n",
      "Data columns (total 4 columns):\n",
      " #   Column   Non-Null Count  Dtype \n",
      "---  ------   --------------  ----- \n",
      " 0   title    23479 non-null  object\n",
      " 1   text     23479 non-null  object\n",
      " 2   subject  23468 non-null  object\n",
      " 3   date     23468 non-null  object\n",
      "dtypes: object(4)\n",
      "memory usage: 917.1+ KB\n"
     ]
    }
   ],
   "source": [
    "fake.info() "
   ]
  },
  {
   "cell_type": "code",
   "execution_count": 28,
   "id": "1029f828",
   "metadata": {
    "ExecuteTime": {
     "end_time": "2023-07-08T07:12:31.499543Z",
     "start_time": "2023-07-08T07:12:31.463949Z"
    }
   },
   "outputs": [
    {
     "name": "stdout",
     "output_type": "stream",
     "text": [
      "<class 'pandas.core.frame.DataFrame'>\n",
      "Int64Index: 21211 entries, 0 to 21416\n",
      "Data columns (total 4 columns):\n",
      " #   Column    Non-Null Count  Dtype \n",
      "---  ------    --------------  ----- \n",
      " 0   ï»¿title  21211 non-null  object\n",
      " 1   text      21211 non-null  object\n",
      " 2   subject   21211 non-null  object\n",
      " 3   date      21211 non-null  object\n",
      "dtypes: object(4)\n",
      "memory usage: 828.6+ KB\n"
     ]
    }
   ],
   "source": [
    "true.info() "
   ]
  },
  {
   "cell_type": "markdown",
   "id": "2677b401",
   "metadata": {},
   "source": [
    "so we can see that all the data in our dataset is catagorical\n",
    "NOTE: You can see that all of the datetime related columns are not currently in datetime format. We will need to convert these later."
   ]
  },
  {
   "cell_type": "code",
   "execution_count": 29,
   "id": "1d70e5d1",
   "metadata": {
    "ExecuteTime": {
     "end_time": "2023-07-08T07:12:32.244041Z",
     "start_time": "2023-07-08T07:12:32.229391Z"
    }
   },
   "outputs": [
    {
     "data": {
      "text/plain": [
       "(23479, 4)"
      ]
     },
     "execution_count": 29,
     "metadata": {},
     "output_type": "execute_result"
    }
   ],
   "source": [
    "fake.shape "
   ]
  },
  {
   "cell_type": "code",
   "execution_count": 30,
   "id": "5f493623",
   "metadata": {
    "ExecuteTime": {
     "end_time": "2023-07-08T07:12:32.620127Z",
     "start_time": "2023-07-08T07:12:32.598547Z"
    }
   },
   "outputs": [
    {
     "data": {
      "text/plain": [
       "(21211, 4)"
      ]
     },
     "execution_count": 30,
     "metadata": {},
     "output_type": "execute_result"
    }
   ],
   "source": [
    "true.shape "
   ]
  },
  {
   "cell_type": "code",
   "execution_count": 31,
   "id": "9551b45c",
   "metadata": {
    "ExecuteTime": {
     "end_time": "2023-07-08T07:12:32.969174Z",
     "start_time": "2023-07-08T07:12:32.960172Z"
    }
   },
   "outputs": [],
   "source": [
    "def missing_data(df):\n",
    "    \"\"\"\n",
    "    Objective\n",
    "    ----------\n",
    "    it shows the missing data in each column with \n",
    "    total missing values, percentage of missing value and\n",
    "    its data type in descending order.\n",
    "    \n",
    "    parameters\n",
    "    ----------\n",
    "    df: pandas dataframe\n",
    "        input data frame \n",
    "    \n",
    "    returns\n",
    "    ----------\n",
    "    missing_data: output data frame(pandas dataframe)\n",
    "    \n",
    "    \"\"\"\n",
    "    \n",
    "    total = df.isna().sum().sort_values(ascending=False)\n",
    "    percent = round((df.isnull().sum()/df.isna().count()  * 100).sort_values(ascending=False))\n",
    "    data_type = df.dtypes\n",
    "    missing_data = pd.concat([total,percent,data_type],axis=1,keys=['Total','Percent','Data_Type']).sort_values(\"Total\", axis = 0, ascending = False)\n",
    "    \n",
    "    return missing_data "
   ]
  },
  {
   "cell_type": "code",
   "execution_count": 32,
   "id": "236b9f01",
   "metadata": {
    "ExecuteTime": {
     "end_time": "2023-07-08T07:12:33.425190Z",
     "start_time": "2023-07-08T07:12:33.369957Z"
    }
   },
   "outputs": [
    {
     "data": {
      "text/html": [
       "<div>\n",
       "<style scoped>\n",
       "    .dataframe tbody tr th:only-of-type {\n",
       "        vertical-align: middle;\n",
       "    }\n",
       "\n",
       "    .dataframe tbody tr th {\n",
       "        vertical-align: top;\n",
       "    }\n",
       "\n",
       "    .dataframe thead th {\n",
       "        text-align: right;\n",
       "    }\n",
       "</style>\n",
       "<table border=\"1\" class=\"dataframe\">\n",
       "  <thead>\n",
       "    <tr style=\"text-align: right;\">\n",
       "      <th></th>\n",
       "      <th>Total</th>\n",
       "      <th>Percent</th>\n",
       "      <th>Data_Type</th>\n",
       "    </tr>\n",
       "  </thead>\n",
       "  <tbody>\n",
       "    <tr>\n",
       "      <th>ï»¿title</th>\n",
       "      <td>0</td>\n",
       "      <td>0.0</td>\n",
       "      <td>object</td>\n",
       "    </tr>\n",
       "    <tr>\n",
       "      <th>text</th>\n",
       "      <td>0</td>\n",
       "      <td>0.0</td>\n",
       "      <td>object</td>\n",
       "    </tr>\n",
       "    <tr>\n",
       "      <th>subject</th>\n",
       "      <td>0</td>\n",
       "      <td>0.0</td>\n",
       "      <td>object</td>\n",
       "    </tr>\n",
       "    <tr>\n",
       "      <th>date</th>\n",
       "      <td>0</td>\n",
       "      <td>0.0</td>\n",
       "      <td>object</td>\n",
       "    </tr>\n",
       "  </tbody>\n",
       "</table>\n",
       "</div>"
      ],
      "text/plain": [
       "          Total  Percent Data_Type\n",
       "ï»¿title      0      0.0    object\n",
       "text          0      0.0    object\n",
       "subject       0      0.0    object\n",
       "date          0      0.0    object"
      ]
     },
     "execution_count": 32,
     "metadata": {},
     "output_type": "execute_result"
    }
   ],
   "source": [
    "missing_data(true) "
   ]
  },
  {
   "cell_type": "code",
   "execution_count": 33,
   "id": "3468e482",
   "metadata": {
    "ExecuteTime": {
     "end_time": "2023-07-08T07:12:33.806031Z",
     "start_time": "2023-07-08T07:12:33.737923Z"
    }
   },
   "outputs": [
    {
     "data": {
      "text/html": [
       "<div>\n",
       "<style scoped>\n",
       "    .dataframe tbody tr th:only-of-type {\n",
       "        vertical-align: middle;\n",
       "    }\n",
       "\n",
       "    .dataframe tbody tr th {\n",
       "        vertical-align: top;\n",
       "    }\n",
       "\n",
       "    .dataframe thead th {\n",
       "        text-align: right;\n",
       "    }\n",
       "</style>\n",
       "<table border=\"1\" class=\"dataframe\">\n",
       "  <thead>\n",
       "    <tr style=\"text-align: right;\">\n",
       "      <th></th>\n",
       "      <th>Total</th>\n",
       "      <th>Percent</th>\n",
       "      <th>Data_Type</th>\n",
       "    </tr>\n",
       "  </thead>\n",
       "  <tbody>\n",
       "    <tr>\n",
       "      <th>subject</th>\n",
       "      <td>11</td>\n",
       "      <td>0.0</td>\n",
       "      <td>object</td>\n",
       "    </tr>\n",
       "    <tr>\n",
       "      <th>date</th>\n",
       "      <td>11</td>\n",
       "      <td>0.0</td>\n",
       "      <td>object</td>\n",
       "    </tr>\n",
       "    <tr>\n",
       "      <th>title</th>\n",
       "      <td>0</td>\n",
       "      <td>0.0</td>\n",
       "      <td>object</td>\n",
       "    </tr>\n",
       "    <tr>\n",
       "      <th>text</th>\n",
       "      <td>0</td>\n",
       "      <td>0.0</td>\n",
       "      <td>object</td>\n",
       "    </tr>\n",
       "  </tbody>\n",
       "</table>\n",
       "</div>"
      ],
      "text/plain": [
       "         Total  Percent Data_Type\n",
       "subject     11      0.0    object\n",
       "date        11      0.0    object\n",
       "title        0      0.0    object\n",
       "text         0      0.0    object"
      ]
     },
     "execution_count": 33,
     "metadata": {},
     "output_type": "execute_result"
    }
   ],
   "source": [
    "missing_data(fake) "
   ]
  },
  {
   "cell_type": "markdown",
   "id": "b501e538",
   "metadata": {},
   "source": [
    "we can clearly conclude that we don't have any missing data in our dataset .... GOOD to GO!!\n",
    "\n",
    "Lets Check For Duplicates in our Dataset"
   ]
  },
  {
   "cell_type": "code",
   "execution_count": 34,
   "id": "22055136",
   "metadata": {
    "ExecuteTime": {
     "end_time": "2023-07-08T07:12:34.485849Z",
     "start_time": "2023-07-08T07:12:34.478279Z"
    }
   },
   "outputs": [],
   "source": [
    "def drop_duplicates(df):\n",
    "    \"\"\"\n",
    "    Objective\n",
    "    ----------\n",
    "    Drop duplicates rows in data frame except for the first occurrence.\n",
    "    \n",
    "    parameters\n",
    "    ----------\n",
    "    df: pandas dataframe\n",
    "        input data frame \n",
    "        \n",
    "    returns\n",
    "    ----------\n",
    "    dataframe with all unique rows\n",
    "    \"\"\"\n",
    "        \n",
    "    try:\n",
    "        dr = df.duplicated().value_counts()\n",
    "        print(\"[INFO] Dropping {} duplicates records...\".format(dr))\n",
    "        f_df = df.drop_duplicates(keep=\"first\")\n",
    "        \n",
    "        return f_df\n",
    "    except KeyError:\n",
    "        print(\"[INFO] No duplicates records found\")\n",
    "        return df "
   ]
  },
  {
   "cell_type": "code",
   "execution_count": 35,
   "id": "919932f6",
   "metadata": {
    "ExecuteTime": {
     "end_time": "2023-07-08T07:12:35.102722Z",
     "start_time": "2023-07-08T07:12:34.849046Z"
    }
   },
   "outputs": [
    {
     "name": "stdout",
     "output_type": "stream",
     "text": [
      "[INFO] Dropping False    21211\n",
      "dtype: int64 duplicates records...\n"
     ]
    }
   ],
   "source": [
    "true=drop_duplicates(true) "
   ]
  },
  {
   "cell_type": "code",
   "execution_count": 36,
   "id": "1d69204b",
   "metadata": {
    "ExecuteTime": {
     "end_time": "2023-07-08T07:12:35.507314Z",
     "start_time": "2023-07-08T07:12:35.212514Z"
    }
   },
   "outputs": [
    {
     "name": "stdout",
     "output_type": "stream",
     "text": [
      "[INFO] Dropping False    23479\n",
      "dtype: int64 duplicates records...\n"
     ]
    }
   ],
   "source": [
    "fake=drop_duplicates(fake) "
   ]
  },
  {
   "cell_type": "code",
   "execution_count": 37,
   "id": "9ce341cc",
   "metadata": {
    "ExecuteTime": {
     "end_time": "2023-07-08T07:12:35.608089Z",
     "start_time": "2023-07-08T07:12:35.599065Z"
    }
   },
   "outputs": [
    {
     "data": {
      "text/plain": [
       "(21211, 4)"
      ]
     },
     "execution_count": 37,
     "metadata": {},
     "output_type": "execute_result"
    }
   ],
   "source": [
    "true.shape "
   ]
  },
  {
   "cell_type": "code",
   "execution_count": 38,
   "id": "425bec8f",
   "metadata": {
    "ExecuteTime": {
     "end_time": "2023-07-08T07:12:35.988346Z",
     "start_time": "2023-07-08T07:12:35.972950Z"
    }
   },
   "outputs": [
    {
     "data": {
      "text/plain": [
       "(23479, 4)"
      ]
     },
     "execution_count": 38,
     "metadata": {},
     "output_type": "execute_result"
    }
   ],
   "source": [
    "fake.shape "
   ]
  },
  {
   "cell_type": "markdown",
   "id": "24a2cdbe",
   "metadata": {},
   "source": [
    "#Previously we had :                                                   After Removing Duplicates we have :\n",
    "\n",
    "fake dataset have 23481 ROWS and 4 COLUMNS                            fake dataset have 23478 ROWS and 4 COLUMNS\n",
    "\n",
    "true dataset have 21416 ROWS and 4 COLUMNS                            true dataset have 21210 ROWS and 4 COLUMNS  "
   ]
  },
  {
   "cell_type": "markdown",
   "id": "11412edd",
   "metadata": {},
   "source": [
    "# Statistics View"
   ]
  },
  {
   "cell_type": "markdown",
   "id": "7c21d522",
   "metadata": {
    "ExecuteTime": {
     "end_time": "2023-07-08T07:08:10.286837Z",
     "start_time": "2023-07-08T07:08:10.268909Z"
    }
   },
   "source": [
    "Now let's look at some statistics about the datasets "
   ]
  },
  {
   "cell_type": "code",
   "execution_count": 39,
   "id": "7abad9ec",
   "metadata": {
    "ExecuteTime": {
     "end_time": "2023-07-08T07:12:37.501602Z",
     "start_time": "2023-07-08T07:12:37.438245Z"
    }
   },
   "outputs": [
    {
     "data": {
      "text/html": [
       "<div>\n",
       "<style scoped>\n",
       "    .dataframe tbody tr th:only-of-type {\n",
       "        vertical-align: middle;\n",
       "    }\n",
       "\n",
       "    .dataframe tbody tr th {\n",
       "        vertical-align: top;\n",
       "    }\n",
       "\n",
       "    .dataframe thead th {\n",
       "        text-align: right;\n",
       "    }\n",
       "</style>\n",
       "<table border=\"1\" class=\"dataframe\">\n",
       "  <thead>\n",
       "    <tr style=\"text-align: right;\">\n",
       "      <th></th>\n",
       "      <th>title</th>\n",
       "      <th>text</th>\n",
       "      <th>subject</th>\n",
       "      <th>date</th>\n",
       "    </tr>\n",
       "  </thead>\n",
       "  <tbody>\n",
       "    <tr>\n",
       "      <th>count</th>\n",
       "      <td>23479</td>\n",
       "      <td>23479</td>\n",
       "      <td>23468</td>\n",
       "      <td>23468</td>\n",
       "    </tr>\n",
       "    <tr>\n",
       "      <th>unique</th>\n",
       "      <td>17914</td>\n",
       "      <td>17466</td>\n",
       "      <td>17</td>\n",
       "      <td>1692</td>\n",
       "    </tr>\n",
       "    <tr>\n",
       "      <th>top</th>\n",
       "      <td>MEDIA IGNORES Time That Bill Clinton FIRED His...</td>\n",
       "      <td></td>\n",
       "      <td>News</td>\n",
       "      <td>May 10, 2017</td>\n",
       "    </tr>\n",
       "    <tr>\n",
       "      <th>freq</th>\n",
       "      <td>6</td>\n",
       "      <td>626</td>\n",
       "      <td>9050</td>\n",
       "      <td>46</td>\n",
       "    </tr>\n",
       "  </tbody>\n",
       "</table>\n",
       "</div>"
      ],
      "text/plain": [
       "                                                    title   text subject  \\\n",
       "count                                               23479  23479   23468   \n",
       "unique                                              17914  17466      17   \n",
       "top     MEDIA IGNORES Time That Bill Clinton FIRED His...           News   \n",
       "freq                                                    6    626    9050   \n",
       "\n",
       "                date  \n",
       "count          23468  \n",
       "unique          1692  \n",
       "top     May 10, 2017  \n",
       "freq              46  "
      ]
     },
     "execution_count": 39,
     "metadata": {},
     "output_type": "execute_result"
    }
   ],
   "source": [
    "fake.describe() "
   ]
  },
  {
   "cell_type": "code",
   "execution_count": 40,
   "id": "cf7b09bc",
   "metadata": {
    "ExecuteTime": {
     "end_time": "2023-07-08T07:12:37.875728Z",
     "start_time": "2023-07-08T07:12:37.806139Z"
    }
   },
   "outputs": [
    {
     "data": {
      "text/html": [
       "<div>\n",
       "<style scoped>\n",
       "    .dataframe tbody tr th:only-of-type {\n",
       "        vertical-align: middle;\n",
       "    }\n",
       "\n",
       "    .dataframe tbody tr th {\n",
       "        vertical-align: top;\n",
       "    }\n",
       "\n",
       "    .dataframe thead th {\n",
       "        text-align: right;\n",
       "    }\n",
       "</style>\n",
       "<table border=\"1\" class=\"dataframe\">\n",
       "  <thead>\n",
       "    <tr style=\"text-align: right;\">\n",
       "      <th></th>\n",
       "      <th>ï»¿title</th>\n",
       "      <th>text</th>\n",
       "      <th>subject</th>\n",
       "      <th>date</th>\n",
       "    </tr>\n",
       "  </thead>\n",
       "  <tbody>\n",
       "    <tr>\n",
       "      <th>count</th>\n",
       "      <td>21211</td>\n",
       "      <td>21211</td>\n",
       "      <td>21211</td>\n",
       "      <td>21211</td>\n",
       "    </tr>\n",
       "    <tr>\n",
       "      <th>unique</th>\n",
       "      <td>20826</td>\n",
       "      <td>21192</td>\n",
       "      <td>2</td>\n",
       "      <td>716</td>\n",
       "    </tr>\n",
       "    <tr>\n",
       "      <th>top</th>\n",
       "      <td>Factbox: Trump fills top jobs for his administ...</td>\n",
       "      <td>CHARLESTON, S.C. (Reuters) - Long viewed by th...</td>\n",
       "      <td>politicsNews</td>\n",
       "      <td>6-Dec-17</td>\n",
       "    </tr>\n",
       "    <tr>\n",
       "      <th>freq</th>\n",
       "      <td>14</td>\n",
       "      <td>2</td>\n",
       "      <td>11220</td>\n",
       "      <td>166</td>\n",
       "    </tr>\n",
       "  </tbody>\n",
       "</table>\n",
       "</div>"
      ],
      "text/plain": [
       "                                                 ï»¿title  \\\n",
       "count                                               21211   \n",
       "unique                                              20826   \n",
       "top     Factbox: Trump fills top jobs for his administ...   \n",
       "freq                                                   14   \n",
       "\n",
       "                                                     text       subject  \\\n",
       "count                                               21211         21211   \n",
       "unique                                              21192             2   \n",
       "top     CHARLESTON, S.C. (Reuters) - Long viewed by th...  politicsNews   \n",
       "freq                                                    2         11220   \n",
       "\n",
       "            date  \n",
       "count      21211  \n",
       "unique       716  \n",
       "top     6-Dec-17  \n",
       "freq         166  "
      ]
     },
     "execution_count": 40,
     "metadata": {},
     "output_type": "execute_result"
    }
   ],
   "source": [
    "true.describe()"
   ]
  },
  {
   "cell_type": "markdown",
   "id": "df17d282",
   "metadata": {},
   "source": [
    "# Data visualization"
   ]
  },
  {
   "cell_type": "code",
   "execution_count": 41,
   "id": "9c199445",
   "metadata": {
    "ExecuteTime": {
     "end_time": "2023-07-08T07:12:38.895682Z",
     "start_time": "2023-07-08T07:12:38.632156Z"
    }
   },
   "outputs": [
    {
     "data": {
      "text/plain": [
       "<Axes: xlabel='subject', ylabel='count'>"
      ]
     },
     "execution_count": 41,
     "metadata": {},
     "output_type": "execute_result"
    },
    {
     "data": {
      "image/png": "[encoded data removed]",
      "text/plain": [
       "<Figure size 1700x1827 with 1 Axes>"
      ]
     },
     "metadata": {},
     "output_type": "display_data"
    }
   ],
   "source": [
    "fig = plt.figure()\n",
    "sns.set(rc={'figure.figsize':(3.7,8.27)})\n",
    "ax1 = fig.add_subplot(2,1,1) \n",
    "sns.countplot(data = true, x = 'subject', ax = ax1) "
   ]
  },
  {
   "cell_type": "markdown",
   "id": "4f96bd82",
   "metadata": {},
   "source": [
    "After looking into the visualtion of different subject of fake news and comparing it with subjects of true news we can figure out the following things-\n",
    "\n",
    "1)we have only 2 subjects in true ('politicsNews', 'worldnews') while fake have 6 subjects ('News', 'politics', 'Government News', 'left-news', 'US_News', 'Middle-east) .\n",
    "\n",
    "since we are dealing with supervised machine learing model our ulimate goal should always be to make our model as simple as possible\n",
    "with this goal we can apply some feature engineering into our fake dataset where we can merge 'News', 'left-news', 'US_News', 'Middle-east as 'worldnews' and merge 'politics', 'Government News'as 'politicsNews'"
   ]
  },
  {
   "cell_type": "code",
   "execution_count": 43,
   "id": "7d221338",
   "metadata": {
    "ExecuteTime": {
     "end_time": "2023-07-08T07:12:41.158006Z",
     "start_time": "2023-07-08T07:12:41.150779Z"
    }
   },
   "outputs": [
    {
     "data": {
      "text/plain": [
       "array(['politicsNews', 'worldnews'], dtype=object)"
      ]
     },
     "execution_count": 43,
     "metadata": {},
     "output_type": "execute_result"
    }
   ],
   "source": [
    "true.subject.unique() "
   ]
  },
  {
   "cell_type": "code",
   "execution_count": 51,
   "id": "80b890af",
   "metadata": {
    "ExecuteTime": {
     "end_time": "2023-07-08T07:17:20.151449Z",
     "start_time": "2023-07-08T07:17:19.745513Z"
    }
   },
   "outputs": [
    {
     "data": {
      "image/png": "[encoded data removed]",
      "text/plain": [
       "<Figure size 1500x500 with 1 Axes>"
      ]
     },
     "metadata": {},
     "output_type": "display_data"
    },
    {
     "data": {
      "image/png": "[encoded data removed]",
      "text/plain": [
       "<Figure size 500x300 with 1 Axes>"
      ]
     },
     "metadata": {},
     "output_type": "display_data"
    }
   ],
   "source": [
    "# Count of fake_news by subject\n",
    "plt.figure(figsize=(15, 5))\n",
    "ax1 =sns.countplot(x='subject', data=fake, saturation = 1.5)\n",
    "plt.title('Count of Fake News by Subject')\n",
    "\n",
    "for p in ax1.patches:\n",
    "    ax1.annotate(str(int(p.get_height())), (p.get_x() + p.get_width() / 2, p.get_height()), ha='center', va='center')\n",
    "plt.show()\n",
    "\n",
    "# Count of true_news by subject\n",
    "plt.figure(figsize=(5, 3))\n",
    "plt.rcParams['font.size'] = 7\n",
    "ax2 = sns.countplot(x='subject', data=true, saturation = 1.5)\n",
    "plt.title('Count of True News by Subject')\n",
    "for p in ax2.patches:\n",
    "    ax2.annotate(str(int(p.get_height())), (p.get_x() + p.get_width() / 2, p.get_height()), ha='center', va='center')\n",
    "plt.show() "
   ]
  },
  {
   "cell_type": "code",
   "execution_count": 52,
   "id": "3b5987b7",
   "metadata": {
    "ExecuteTime": {
     "end_time": "2023-07-08T07:17:23.936063Z",
     "start_time": "2023-07-08T07:17:23.922544Z"
    }
   },
   "outputs": [
    {
     "data": {
      "text/plain": [
       "array(['News', 'politics', 'Government News', 'left-news', 'US_News',\n",
       "       'Middle-east'], dtype=object)"
      ]
     },
     "execution_count": 52,
     "metadata": {},
     "output_type": "execute_result"
    }
   ],
   "source": [
    "fake.subject.unique() "
   ]
  },
  {
   "cell_type": "code",
   "execution_count": 53,
   "id": "760db98f",
   "metadata": {
    "ExecuteTime": {
     "end_time": "2023-07-08T07:17:37.776249Z",
     "start_time": "2023-07-08T07:17:37.753244Z"
    }
   },
   "outputs": [],
   "source": [
    "fake['subject'] = fake['subject'].replace(['News'], 'worldnews')\n",
    "fake['subject'] = fake['subject'].replace(['left-news'], 'worldnews')\n",
    "fake['subject'] = fake['subject'].replace(['US_News'], 'worldnews')\n",
    "fake['subject'] = fake['subject'].replace(['Middle-east'], 'worldnews')\n",
    "fake['subject'] = fake['subject'].replace(['politics'], 'politicsNews')\n",
    "fake['subject'] = fake['subject'].replace(['Government News'], 'politicsNews') "
   ]
  },
  {
   "cell_type": "code",
   "execution_count": 54,
   "id": "a231ac17",
   "metadata": {
    "ExecuteTime": {
     "end_time": "2023-07-08T07:17:47.543951Z",
     "start_time": "2023-07-08T07:17:47.528697Z"
    }
   },
   "outputs": [
    {
     "data": {
      "text/plain": [
       "array(['worldnews', 'politicsNews'], dtype=object)"
      ]
     },
     "execution_count": 54,
     "metadata": {},
     "output_type": "execute_result"
    }
   ],
   "source": [
    "fake.subject.unique() "
   ]
  },
  {
   "cell_type": "code",
   "execution_count": 55,
   "id": "5f69e876",
   "metadata": {
    "ExecuteTime": {
     "end_time": "2023-07-08T07:18:03.125028Z",
     "start_time": "2023-07-08T07:18:02.752088Z"
    }
   },
   "outputs": [
    {
     "data": {
      "text/plain": [
       "[Text(0.5, 0, 'True_Subject'), Text(0, 0.5, 'count')]"
      ]
     },
     "execution_count": 55,
     "metadata": {},
     "output_type": "execute_result"
    },
    {
     "data": {
      "image/png": "[encoded data removed]",
      "text/plain": [
       "<Figure size 1700x1827 with 2 Axes>"
      ]
     },
     "metadata": {},
     "output_type": "display_data"
    }
   ],
   "source": [
    "fig = plt.figure()\n",
    "sns.set(rc={'figure.figsize':(11,8)})\n",
    "ax1 = fig.add_subplot(1,2,1) \n",
    "ax2 = fig.add_subplot(1,2,2)\n",
    "sns.countplot(data = fake, x = 'subject', ax = ax1,).set(xlabel='fake_Subject', ylabel='count')\n",
    "sns.countplot(data = true, x = 'subject', ax = ax2).set(xlabel='True_Subject', ylabel='count') "
   ]
  },
  {
   "cell_type": "markdown",
   "id": "b9fea366",
   "metadata": {
    "ExecuteTime": {
     "end_time": "2023-07-08T07:18:20.911355Z",
     "start_time": "2023-07-08T07:18:20.901889Z"
    }
   },
   "source": [
    "Converting the date feature into months and years "
   ]
  },
  {
   "cell_type": "code",
   "execution_count": 58,
   "id": "509c33f2",
   "metadata": {
    "ExecuteTime": {
     "end_time": "2023-07-08T07:18:48.091374Z",
     "start_time": "2023-07-08T07:18:48.065397Z"
    }
   },
   "outputs": [],
   "source": [
    "from datetime import datetime\n",
    "import calendar\n",
    "true['date'] = pd.to_datetime(true['date'], errors='coerce')\n",
    "num = true['date'].dt.month  "
   ]
  },
  {
   "cell_type": "code",
   "execution_count": 59,
   "id": "2429a015",
   "metadata": {
    "ExecuteTime": {
     "end_time": "2023-07-08T07:18:58.024130Z",
     "start_time": "2023-07-08T07:18:57.968932Z"
    }
   },
   "outputs": [],
   "source": [
    "fake['date'] = pd.to_datetime(fake['date'], errors='coerce')\n",
    "num = fake['date'].dt.month "
   ]
  },
  {
   "cell_type": "code",
   "execution_count": 60,
   "id": "44cb10b9",
   "metadata": {
    "ExecuteTime": {
     "end_time": "2023-07-08T07:19:09.192400Z",
     "start_time": "2023-07-08T07:19:09.164413Z"
    }
   },
   "outputs": [
    {
     "name": "stdout",
     "output_type": "stream",
     "text": [
      "<class 'pandas.core.frame.DataFrame'>\n",
      "Int64Index: 21211 entries, 0 to 21416\n",
      "Data columns (total 5 columns):\n",
      " #   Column    Non-Null Count  Dtype         \n",
      "---  ------    --------------  -----         \n",
      " 0   ï»¿title  21211 non-null  object        \n",
      " 1   text      21211 non-null  object        \n",
      " 2   subject   21211 non-null  object        \n",
      " 3   date      21211 non-null  datetime64[ns]\n",
      " 4   year      21211 non-null  int32         \n",
      "dtypes: datetime64[ns](1), int32(1), object(3)\n",
      "memory usage: 911.4+ KB\n"
     ]
    }
   ],
   "source": [
    "true.info() "
   ]
  },
  {
   "cell_type": "code",
   "execution_count": 61,
   "id": "cc4a0fb5",
   "metadata": {
    "ExecuteTime": {
     "end_time": "2023-07-08T07:19:18.086819Z",
     "start_time": "2023-07-08T07:19:18.055460Z"
    }
   },
   "outputs": [
    {
     "name": "stdout",
     "output_type": "stream",
     "text": [
      "<class 'pandas.core.frame.DataFrame'>\n",
      "Int64Index: 23447 entries, 0 to 23501\n",
      "Data columns (total 5 columns):\n",
      " #   Column   Non-Null Count  Dtype         \n",
      "---  ------   --------------  -----         \n",
      " 0   title    23447 non-null  object        \n",
      " 1   text     23447 non-null  object        \n",
      " 2   subject  23447 non-null  object        \n",
      " 3   date     23447 non-null  datetime64[ns]\n",
      " 4   year     23447 non-null  int32         \n",
      "dtypes: datetime64[ns](1), int32(1), object(3)\n",
      "memory usage: 1007.5+ KB\n"
     ]
    }
   ],
   "source": [
    "fake.info() "
   ]
  },
  {
   "cell_type": "code",
   "execution_count": 62,
   "id": "e66bb09b",
   "metadata": {
    "ExecuteTime": {
     "end_time": "2023-07-08T07:19:28.930559Z",
     "start_time": "2023-07-08T07:19:28.845010Z"
    }
   },
   "outputs": [],
   "source": [
    "fake['Month'] = fake.date.apply(lambda x:x.month)\n",
    "fake['Year'] = fake.date.apply(lambda x:x.year) "
   ]
  },
  {
   "cell_type": "code",
   "execution_count": 63,
   "id": "60e56a4e",
   "metadata": {
    "ExecuteTime": {
     "end_time": "2023-07-08T07:19:43.296182Z",
     "start_time": "2023-07-08T07:19:43.232764Z"
    }
   },
   "outputs": [],
   "source": [
    "true['Month'] = true.date.apply(lambda x:x.month)\n",
    "true['Year'] = true.date.apply(lambda x:x.year) "
   ]
  },
  {
   "cell_type": "code",
   "execution_count": 64,
   "id": "b98c5e8e",
   "metadata": {
    "ExecuteTime": {
     "end_time": "2023-07-08T07:20:06.988900Z",
     "start_time": "2023-07-08T07:20:06.966882Z"
    }
   },
   "outputs": [
    {
     "data": {
      "text/html": [
       "<div>\n",
       "<style scoped>\n",
       "    .dataframe tbody tr th:only-of-type {\n",
       "        vertical-align: middle;\n",
       "    }\n",
       "\n",
       "    .dataframe tbody tr th {\n",
       "        vertical-align: top;\n",
       "    }\n",
       "\n",
       "    .dataframe thead th {\n",
       "        text-align: right;\n",
       "    }\n",
       "</style>\n",
       "<table border=\"1\" class=\"dataframe\">\n",
       "  <thead>\n",
       "    <tr style=\"text-align: right;\">\n",
       "      <th></th>\n",
       "      <th>title</th>\n",
       "      <th>text</th>\n",
       "      <th>subject</th>\n",
       "      <th>date</th>\n",
       "      <th>year</th>\n",
       "      <th>Month</th>\n",
       "      <th>Year</th>\n",
       "    </tr>\n",
       "  </thead>\n",
       "  <tbody>\n",
       "    <tr>\n",
       "      <th>0</th>\n",
       "      <td>Donald Trump Sends Out Embarrassing New Year\u0019...</td>\n",
       "      <td>Donald Trump just couldn t wish all Americans ...</td>\n",
       "      <td>worldnews</td>\n",
       "      <td>2017-12-31</td>\n",
       "      <td>2017</td>\n",
       "      <td>12</td>\n",
       "      <td>2017</td>\n",
       "    </tr>\n",
       "    <tr>\n",
       "      <th>1</th>\n",
       "      <td>Drunk Bragging Trump Staffer Started Russian ...</td>\n",
       "      <td>House Intelligence Committee Chairman Devin Nu...</td>\n",
       "      <td>worldnews</td>\n",
       "      <td>2017-12-31</td>\n",
       "      <td>2017</td>\n",
       "      <td>12</td>\n",
       "      <td>2017</td>\n",
       "    </tr>\n",
       "    <tr>\n",
       "      <th>2</th>\n",
       "      <td>Sheriff David Clarke Becomes An Internet Joke...</td>\n",
       "      <td>On Friday, it was revealed that former Milwauk...</td>\n",
       "      <td>worldnews</td>\n",
       "      <td>2017-12-30</td>\n",
       "      <td>2017</td>\n",
       "      <td>12</td>\n",
       "      <td>2017</td>\n",
       "    </tr>\n",
       "    <tr>\n",
       "      <th>3</th>\n",
       "      <td>Trump Is So Obsessed He Even Has Obama\u0019s Name...</td>\n",
       "      <td>On Christmas day, Donald Trump announced that ...</td>\n",
       "      <td>worldnews</td>\n",
       "      <td>2017-12-29</td>\n",
       "      <td>2017</td>\n",
       "      <td>12</td>\n",
       "      <td>2017</td>\n",
       "    </tr>\n",
       "    <tr>\n",
       "      <th>4</th>\n",
       "      <td>Pope Francis Just Called Out Donald Trump Dur...</td>\n",
       "      <td>Pope Francis used his annual Christmas Day mes...</td>\n",
       "      <td>worldnews</td>\n",
       "      <td>2017-12-25</td>\n",
       "      <td>2017</td>\n",
       "      <td>12</td>\n",
       "      <td>2017</td>\n",
       "    </tr>\n",
       "  </tbody>\n",
       "</table>\n",
       "</div>"
      ],
      "text/plain": [
       "                                               title  \\\n",
       "0   Donald Trump Sends Out Embarrassing New Year\u0019...   \n",
       "1   Drunk Bragging Trump Staffer Started Russian ...   \n",
       "2   Sheriff David Clarke Becomes An Internet Joke...   \n",
       "3   Trump Is So Obsessed He Even Has Obama\u0019s Name...   \n",
       "4   Pope Francis Just Called Out Donald Trump Dur...   \n",
       "\n",
       "                                                text    subject       date  \\\n",
       "0  Donald Trump just couldn t wish all Americans ...  worldnews 2017-12-31   \n",
       "1  House Intelligence Committee Chairman Devin Nu...  worldnews 2017-12-31   \n",
       "2  On Friday, it was revealed that former Milwauk...  worldnews 2017-12-30   \n",
       "3  On Christmas day, Donald Trump announced that ...  worldnews 2017-12-29   \n",
       "4  Pope Francis used his annual Christmas Day mes...  worldnews 2017-12-25   \n",
       "\n",
       "   year  Month  Year  \n",
       "0  2017     12  2017  \n",
       "1  2017     12  2017  \n",
       "2  2017     12  2017  \n",
       "3  2017     12  2017  \n",
       "4  2017     12  2017  "
      ]
     },
     "execution_count": 64,
     "metadata": {},
     "output_type": "execute_result"
    }
   ],
   "source": [
    "fake.head()"
   ]
  },
  {
   "cell_type": "code",
   "execution_count": 65,
   "id": "ad12c35a",
   "metadata": {
    "ExecuteTime": {
     "end_time": "2023-07-08T07:20:18.364857Z",
     "start_time": "2023-07-08T07:20:18.335155Z"
    }
   },
   "outputs": [],
   "source": [
    "del fake['date']\n",
    "del true['date'] "
   ]
  },
  {
   "cell_type": "code",
   "execution_count": 66,
   "id": "505631ab",
   "metadata": {
    "ExecuteTime": {
     "end_time": "2023-07-08T07:20:28.269607Z",
     "start_time": "2023-07-08T07:20:28.243433Z"
    }
   },
   "outputs": [
    {
     "data": {
      "text/html": [
       "<div>\n",
       "<style scoped>\n",
       "    .dataframe tbody tr th:only-of-type {\n",
       "        vertical-align: middle;\n",
       "    }\n",
       "\n",
       "    .dataframe tbody tr th {\n",
       "        vertical-align: top;\n",
       "    }\n",
       "\n",
       "    .dataframe thead th {\n",
       "        text-align: right;\n",
       "    }\n",
       "</style>\n",
       "<table border=\"1\" class=\"dataframe\">\n",
       "  <thead>\n",
       "    <tr style=\"text-align: right;\">\n",
       "      <th></th>\n",
       "      <th>ï»¿title</th>\n",
       "      <th>text</th>\n",
       "      <th>subject</th>\n",
       "      <th>year</th>\n",
       "      <th>Month</th>\n",
       "      <th>Year</th>\n",
       "    </tr>\n",
       "  </thead>\n",
       "  <tbody>\n",
       "    <tr>\n",
       "      <th>0</th>\n",
       "      <td>As U.S. budget fight looms, Republicans flip t...</td>\n",
       "      <td>WASHINGTON (Reuters) - The head of a conservat...</td>\n",
       "      <td>politicsNews</td>\n",
       "      <td>2017</td>\n",
       "      <td>12</td>\n",
       "      <td>2017</td>\n",
       "    </tr>\n",
       "    <tr>\n",
       "      <th>1</th>\n",
       "      <td>U.S. military to accept transgender recruits o...</td>\n",
       "      <td>WASHINGTON (Reuters) - Transgender people will...</td>\n",
       "      <td>politicsNews</td>\n",
       "      <td>2017</td>\n",
       "      <td>12</td>\n",
       "      <td>2017</td>\n",
       "    </tr>\n",
       "    <tr>\n",
       "      <th>2</th>\n",
       "      <td>Senior U.S. Republican senator: 'Let Mr. Muell...</td>\n",
       "      <td>WASHINGTON (Reuters) - The special counsel inv...</td>\n",
       "      <td>politicsNews</td>\n",
       "      <td>2017</td>\n",
       "      <td>12</td>\n",
       "      <td>2017</td>\n",
       "    </tr>\n",
       "    <tr>\n",
       "      <th>3</th>\n",
       "      <td>FBI Russia probe helped by Australian diplomat...</td>\n",
       "      <td>WASHINGTON (Reuters) - Trump campaign adviser ...</td>\n",
       "      <td>politicsNews</td>\n",
       "      <td>2017</td>\n",
       "      <td>12</td>\n",
       "      <td>2017</td>\n",
       "    </tr>\n",
       "    <tr>\n",
       "      <th>4</th>\n",
       "      <td>Trump wants Postal Service to charge 'much mor...</td>\n",
       "      <td>SEATTLE/WASHINGTON (Reuters) - President Donal...</td>\n",
       "      <td>politicsNews</td>\n",
       "      <td>2017</td>\n",
       "      <td>12</td>\n",
       "      <td>2017</td>\n",
       "    </tr>\n",
       "  </tbody>\n",
       "</table>\n",
       "</div>"
      ],
      "text/plain": [
       "                                            ï»¿title  \\\n",
       "0  As U.S. budget fight looms, Republicans flip t...   \n",
       "1  U.S. military to accept transgender recruits o...   \n",
       "2  Senior U.S. Republican senator: 'Let Mr. Muell...   \n",
       "3  FBI Russia probe helped by Australian diplomat...   \n",
       "4  Trump wants Postal Service to charge 'much mor...   \n",
       "\n",
       "                                                text       subject  year  \\\n",
       "0  WASHINGTON (Reuters) - The head of a conservat...  politicsNews  2017   \n",
       "1  WASHINGTON (Reuters) - Transgender people will...  politicsNews  2017   \n",
       "2  WASHINGTON (Reuters) - The special counsel inv...  politicsNews  2017   \n",
       "3  WASHINGTON (Reuters) - Trump campaign adviser ...  politicsNews  2017   \n",
       "4  SEATTLE/WASHINGTON (Reuters) - President Donal...  politicsNews  2017   \n",
       "\n",
       "   Month  Year  \n",
       "0     12  2017  \n",
       "1     12  2017  \n",
       "2     12  2017  \n",
       "3     12  2017  \n",
       "4     12  2017  "
      ]
     },
     "execution_count": 66,
     "metadata": {},
     "output_type": "execute_result"
    }
   ],
   "source": [
    "true.head() "
   ]
  },
  {
   "cell_type": "code",
   "execution_count": 67,
   "id": "42380851",
   "metadata": {
    "ExecuteTime": {
     "end_time": "2023-07-08T07:20:39.356255Z",
     "start_time": "2023-07-08T07:20:39.345242Z"
    }
   },
   "outputs": [
    {
     "data": {
      "text/html": [
       "<div>\n",
       "<style scoped>\n",
       "    .dataframe tbody tr th:only-of-type {\n",
       "        vertical-align: middle;\n",
       "    }\n",
       "\n",
       "    .dataframe tbody tr th {\n",
       "        vertical-align: top;\n",
       "    }\n",
       "\n",
       "    .dataframe thead th {\n",
       "        text-align: right;\n",
       "    }\n",
       "</style>\n",
       "<table border=\"1\" class=\"dataframe\">\n",
       "  <thead>\n",
       "    <tr style=\"text-align: right;\">\n",
       "      <th></th>\n",
       "      <th>title</th>\n",
       "      <th>text</th>\n",
       "      <th>subject</th>\n",
       "      <th>year</th>\n",
       "      <th>Month</th>\n",
       "      <th>Year</th>\n",
       "    </tr>\n",
       "  </thead>\n",
       "  <tbody>\n",
       "    <tr>\n",
       "      <th>0</th>\n",
       "      <td>Donald Trump Sends Out Embarrassing New Year\u0019...</td>\n",
       "      <td>Donald Trump just couldn t wish all Americans ...</td>\n",
       "      <td>worldnews</td>\n",
       "      <td>2017</td>\n",
       "      <td>12</td>\n",
       "      <td>2017</td>\n",
       "    </tr>\n",
       "    <tr>\n",
       "      <th>1</th>\n",
       "      <td>Drunk Bragging Trump Staffer Started Russian ...</td>\n",
       "      <td>House Intelligence Committee Chairman Devin Nu...</td>\n",
       "      <td>worldnews</td>\n",
       "      <td>2017</td>\n",
       "      <td>12</td>\n",
       "      <td>2017</td>\n",
       "    </tr>\n",
       "    <tr>\n",
       "      <th>2</th>\n",
       "      <td>Sheriff David Clarke Becomes An Internet Joke...</td>\n",
       "      <td>On Friday, it was revealed that former Milwauk...</td>\n",
       "      <td>worldnews</td>\n",
       "      <td>2017</td>\n",
       "      <td>12</td>\n",
       "      <td>2017</td>\n",
       "    </tr>\n",
       "    <tr>\n",
       "      <th>3</th>\n",
       "      <td>Trump Is So Obsessed He Even Has Obama\u0019s Name...</td>\n",
       "      <td>On Christmas day, Donald Trump announced that ...</td>\n",
       "      <td>worldnews</td>\n",
       "      <td>2017</td>\n",
       "      <td>12</td>\n",
       "      <td>2017</td>\n",
       "    </tr>\n",
       "    <tr>\n",
       "      <th>4</th>\n",
       "      <td>Pope Francis Just Called Out Donald Trump Dur...</td>\n",
       "      <td>Pope Francis used his annual Christmas Day mes...</td>\n",
       "      <td>worldnews</td>\n",
       "      <td>2017</td>\n",
       "      <td>12</td>\n",
       "      <td>2017</td>\n",
       "    </tr>\n",
       "  </tbody>\n",
       "</table>\n",
       "</div>"
      ],
      "text/plain": [
       "                                               title  \\\n",
       "0   Donald Trump Sends Out Embarrassing New Year\u0019...   \n",
       "1   Drunk Bragging Trump Staffer Started Russian ...   \n",
       "2   Sheriff David Clarke Becomes An Internet Joke...   \n",
       "3   Trump Is So Obsessed He Even Has Obama\u0019s Name...   \n",
       "4   Pope Francis Just Called Out Donald Trump Dur...   \n",
       "\n",
       "                                                text    subject  year  Month  \\\n",
       "0  Donald Trump just couldn t wish all Americans ...  worldnews  2017     12   \n",
       "1  House Intelligence Committee Chairman Devin Nu...  worldnews  2017     12   \n",
       "2  On Friday, it was revealed that former Milwauk...  worldnews  2017     12   \n",
       "3  On Christmas day, Donald Trump announced that ...  worldnews  2017     12   \n",
       "4  Pope Francis used his annual Christmas Day mes...  worldnews  2017     12   \n",
       "\n",
       "   Year  \n",
       "0  2017  \n",
       "1  2017  \n",
       "2  2017  \n",
       "3  2017  \n",
       "4  2017  "
      ]
     },
     "execution_count": 67,
     "metadata": {},
     "output_type": "execute_result"
    }
   ],
   "source": [
    "fake.head() "
   ]
  },
  {
   "cell_type": "code",
   "execution_count": 68,
   "id": "79371da1",
   "metadata": {
    "ExecuteTime": {
     "end_time": "2023-07-08T07:21:03.599939Z",
     "start_time": "2023-07-08T07:21:03.172152Z"
    }
   },
   "outputs": [
    {
     "data": {
      "text/plain": [
       "[Text(0.5, 0, 'True_Subject'), Text(0, 0.5, 'count')]"
      ]
     },
     "execution_count": 68,
     "metadata": {},
     "output_type": "execute_result"
    },
    {
     "data": {
      "image/png": "[encoded data removed]",
      "text/plain": [
       "<Figure size 1100x800 with 2 Axes>"
      ]
     },
     "metadata": {},
     "output_type": "display_data"
    }
   ],
   "source": [
    "fig = plt.figure()\n",
    "sns.set(rc={'figure.figsize':(11,8)})\n",
    "ax1 = fig.add_subplot(1,2,1) \n",
    "ax2 = fig.add_subplot(1,2,2)\n",
    "sns.countplot(data = fake, x = 'subject', hue='Year',ax = ax1,).set(xlabel='fake_Subject', ylabel='count')\n",
    "sns.countplot(data = true, x = 'subject',hue='Year', ax = ax2).set(xlabel='True_Subject', ylabel='count') "
   ]
  },
  {
   "cell_type": "markdown",
   "id": "70071c75",
   "metadata": {},
   "source": [
    "We can see that most of the true news revolvs around 2017 and 2016 and more of that in 2017 we have most of the true world news"
   ]
  },
  {
   "cell_type": "markdown",
   "id": "1df78d8d",
   "metadata": {},
   "source": [
    "# Data Cleaning\n",
    "Now we are moving ahead with cleaning our data\n",
    "\n",
    "Removal of HTML Contents\n",
    "\n",
    "Removal of Punctuation Marks and Special Characters\n",
    "\n",
    "Removal of Stopwords\n",
    "\n",
    "Lemmatization "
   ]
  },
  {
   "cell_type": "markdown",
   "id": "7ea62cbe",
   "metadata": {},
   "source": [
    "First of all we are mearging our tile,subject with text in to a single column 'text' to continue with our data cleaning process "
   ]
  },
  {
   "cell_type": "code",
   "execution_count": 69,
   "id": "7eeef5df",
   "metadata": {
    "ExecuteTime": {
     "end_time": "2023-07-08T07:23:17.550450Z",
     "start_time": "2023-07-08T07:23:16.249261Z"
    }
   },
   "outputs": [],
   "source": [
    "from bs4 import BeautifulSoup\n",
    "import re\n",
    "import nltk\n",
    "import string\n",
    "from nltk.corpus import stopwords  "
   ]
  },
  {
   "cell_type": "code",
   "execution_count": 70,
   "id": "aa1317d3",
   "metadata": {
    "ExecuteTime": {
     "end_time": "2023-07-08T07:23:25.008757Z",
     "start_time": "2023-07-08T07:23:24.994373Z"
    }
   },
   "outputs": [],
   "source": [
    "def remove_html(text):\n",
    "    soup = BeautifulSoup(text, \"html.parser\")\n",
    "    return soup.get_text()\n",
    "def remove_punctuations(text):\n",
    "    return re.sub('\\[[^]]*\\]', '', text)\n",
    "def remove_characters(text):\n",
    "    return re.sub(\"[^a-zA-Z]\",\" \",text) "
   ]
  },
  {
   "cell_type": "code",
   "execution_count": 71,
   "id": "afd5aa02",
   "metadata": {
    "ExecuteTime": {
     "end_time": "2023-07-08T07:23:35.419144Z",
     "start_time": "2023-07-08T07:23:35.412144Z"
    }
   },
   "outputs": [],
   "source": [
    "def cleaning(text):\n",
    "    text = remove_html(text)\n",
    "    text = text.lower()\n",
    "    text = re.sub('\\[.*?\\]', '', text)\n",
    "    text = re.sub('[%s]' % re.escape(string.punctuation), '', text)\n",
    "    text = re.sub('\\w*\\d\\w*', '', text)\n",
    "    text = re.sub(\"[0-9\" \"]+\",\" \",text)\n",
    "    text = re.sub('[‘’“”…]', '', text)\n",
    "    return text\n",
    "\n",
    "clean = lambda x: cleaning(x) "
   ]
  },
  {
   "cell_type": "code",
   "execution_count": 72,
   "id": "716f2d73",
   "metadata": {
    "ExecuteTime": {
     "end_time": "2023-07-08T07:23:44.490543Z",
     "start_time": "2023-07-08T07:23:44.469303Z"
    }
   },
   "outputs": [
    {
     "data": {
      "text/html": [
       "<div>\n",
       "<style scoped>\n",
       "    .dataframe tbody tr th:only-of-type {\n",
       "        vertical-align: middle;\n",
       "    }\n",
       "\n",
       "    .dataframe tbody tr th {\n",
       "        vertical-align: top;\n",
       "    }\n",
       "\n",
       "    .dataframe thead th {\n",
       "        text-align: right;\n",
       "    }\n",
       "</style>\n",
       "<table border=\"1\" class=\"dataframe\">\n",
       "  <thead>\n",
       "    <tr style=\"text-align: right;\">\n",
       "      <th></th>\n",
       "      <th>ï»¿title</th>\n",
       "      <th>text</th>\n",
       "      <th>subject</th>\n",
       "      <th>year</th>\n",
       "      <th>Month</th>\n",
       "      <th>Year</th>\n",
       "    </tr>\n",
       "  </thead>\n",
       "  <tbody>\n",
       "    <tr>\n",
       "      <th>0</th>\n",
       "      <td>As U.S. budget fight looms, Republicans flip t...</td>\n",
       "      <td>WASHINGTON (Reuters) - The head of a conservat...</td>\n",
       "      <td>politicsNews</td>\n",
       "      <td>2017</td>\n",
       "      <td>12</td>\n",
       "      <td>2017</td>\n",
       "    </tr>\n",
       "    <tr>\n",
       "      <th>1</th>\n",
       "      <td>U.S. military to accept transgender recruits o...</td>\n",
       "      <td>WASHINGTON (Reuters) - Transgender people will...</td>\n",
       "      <td>politicsNews</td>\n",
       "      <td>2017</td>\n",
       "      <td>12</td>\n",
       "      <td>2017</td>\n",
       "    </tr>\n",
       "    <tr>\n",
       "      <th>2</th>\n",
       "      <td>Senior U.S. Republican senator: 'Let Mr. Muell...</td>\n",
       "      <td>WASHINGTON (Reuters) - The special counsel inv...</td>\n",
       "      <td>politicsNews</td>\n",
       "      <td>2017</td>\n",
       "      <td>12</td>\n",
       "      <td>2017</td>\n",
       "    </tr>\n",
       "    <tr>\n",
       "      <th>3</th>\n",
       "      <td>FBI Russia probe helped by Australian diplomat...</td>\n",
       "      <td>WASHINGTON (Reuters) - Trump campaign adviser ...</td>\n",
       "      <td>politicsNews</td>\n",
       "      <td>2017</td>\n",
       "      <td>12</td>\n",
       "      <td>2017</td>\n",
       "    </tr>\n",
       "    <tr>\n",
       "      <th>4</th>\n",
       "      <td>Trump wants Postal Service to charge 'much mor...</td>\n",
       "      <td>SEATTLE/WASHINGTON (Reuters) - President Donal...</td>\n",
       "      <td>politicsNews</td>\n",
       "      <td>2017</td>\n",
       "      <td>12</td>\n",
       "      <td>2017</td>\n",
       "    </tr>\n",
       "  </tbody>\n",
       "</table>\n",
       "</div>"
      ],
      "text/plain": [
       "                                            ï»¿title  \\\n",
       "0  As U.S. budget fight looms, Republicans flip t...   \n",
       "1  U.S. military to accept transgender recruits o...   \n",
       "2  Senior U.S. Republican senator: 'Let Mr. Muell...   \n",
       "3  FBI Russia probe helped by Australian diplomat...   \n",
       "4  Trump wants Postal Service to charge 'much mor...   \n",
       "\n",
       "                                                text       subject  year  \\\n",
       "0  WASHINGTON (Reuters) - The head of a conservat...  politicsNews  2017   \n",
       "1  WASHINGTON (Reuters) - Transgender people will...  politicsNews  2017   \n",
       "2  WASHINGTON (Reuters) - The special counsel inv...  politicsNews  2017   \n",
       "3  WASHINGTON (Reuters) - Trump campaign adviser ...  politicsNews  2017   \n",
       "4  SEATTLE/WASHINGTON (Reuters) - President Donal...  politicsNews  2017   \n",
       "\n",
       "   Month  Year  \n",
       "0     12  2017  \n",
       "1     12  2017  \n",
       "2     12  2017  \n",
       "3     12  2017  \n",
       "4     12  2017  "
      ]
     },
     "execution_count": 72,
     "metadata": {},
     "output_type": "execute_result"
    }
   ],
   "source": [
    "true.head() "
   ]
  },
  {
   "cell_type": "code",
   "execution_count": 73,
   "id": "aa0f79d1",
   "metadata": {
    "ExecuteTime": {
     "end_time": "2023-07-08T07:23:54.958498Z",
     "start_time": "2023-07-08T07:23:54.936365Z"
    }
   },
   "outputs": [
    {
     "data": {
      "text/html": [
       "<div>\n",
       "<style scoped>\n",
       "    .dataframe tbody tr th:only-of-type {\n",
       "        vertical-align: middle;\n",
       "    }\n",
       "\n",
       "    .dataframe tbody tr th {\n",
       "        vertical-align: top;\n",
       "    }\n",
       "\n",
       "    .dataframe thead th {\n",
       "        text-align: right;\n",
       "    }\n",
       "</style>\n",
       "<table border=\"1\" class=\"dataframe\">\n",
       "  <thead>\n",
       "    <tr style=\"text-align: right;\">\n",
       "      <th></th>\n",
       "      <th>title</th>\n",
       "      <th>text</th>\n",
       "      <th>subject</th>\n",
       "      <th>year</th>\n",
       "      <th>Month</th>\n",
       "      <th>Year</th>\n",
       "    </tr>\n",
       "  </thead>\n",
       "  <tbody>\n",
       "    <tr>\n",
       "      <th>0</th>\n",
       "      <td>Donald Trump Sends Out Embarrassing New Year\u0019...</td>\n",
       "      <td>Donald Trump just couldn t wish all Americans ...</td>\n",
       "      <td>worldnews</td>\n",
       "      <td>2017</td>\n",
       "      <td>12</td>\n",
       "      <td>2017</td>\n",
       "    </tr>\n",
       "    <tr>\n",
       "      <th>1</th>\n",
       "      <td>Drunk Bragging Trump Staffer Started Russian ...</td>\n",
       "      <td>House Intelligence Committee Chairman Devin Nu...</td>\n",
       "      <td>worldnews</td>\n",
       "      <td>2017</td>\n",
       "      <td>12</td>\n",
       "      <td>2017</td>\n",
       "    </tr>\n",
       "    <tr>\n",
       "      <th>2</th>\n",
       "      <td>Sheriff David Clarke Becomes An Internet Joke...</td>\n",
       "      <td>On Friday, it was revealed that former Milwauk...</td>\n",
       "      <td>worldnews</td>\n",
       "      <td>2017</td>\n",
       "      <td>12</td>\n",
       "      <td>2017</td>\n",
       "    </tr>\n",
       "    <tr>\n",
       "      <th>3</th>\n",
       "      <td>Trump Is So Obsessed He Even Has Obama\u0019s Name...</td>\n",
       "      <td>On Christmas day, Donald Trump announced that ...</td>\n",
       "      <td>worldnews</td>\n",
       "      <td>2017</td>\n",
       "      <td>12</td>\n",
       "      <td>2017</td>\n",
       "    </tr>\n",
       "    <tr>\n",
       "      <th>4</th>\n",
       "      <td>Pope Francis Just Called Out Donald Trump Dur...</td>\n",
       "      <td>Pope Francis used his annual Christmas Day mes...</td>\n",
       "      <td>worldnews</td>\n",
       "      <td>2017</td>\n",
       "      <td>12</td>\n",
       "      <td>2017</td>\n",
       "    </tr>\n",
       "  </tbody>\n",
       "</table>\n",
       "</div>"
      ],
      "text/plain": [
       "                                               title  \\\n",
       "0   Donald Trump Sends Out Embarrassing New Year\u0019...   \n",
       "1   Drunk Bragging Trump Staffer Started Russian ...   \n",
       "2   Sheriff David Clarke Becomes An Internet Joke...   \n",
       "3   Trump Is So Obsessed He Even Has Obama\u0019s Name...   \n",
       "4   Pope Francis Just Called Out Donald Trump Dur...   \n",
       "\n",
       "                                                text    subject  year  Month  \\\n",
       "0  Donald Trump just couldn t wish all Americans ...  worldnews  2017     12   \n",
       "1  House Intelligence Committee Chairman Devin Nu...  worldnews  2017     12   \n",
       "2  On Friday, it was revealed that former Milwauk...  worldnews  2017     12   \n",
       "3  On Christmas day, Donald Trump announced that ...  worldnews  2017     12   \n",
       "4  Pope Francis used his annual Christmas Day mes...  worldnews  2017     12   \n",
       "\n",
       "   Year  \n",
       "0  2017  \n",
       "1  2017  \n",
       "2  2017  \n",
       "3  2017  \n",
       "4  2017  "
      ]
     },
     "execution_count": 73,
     "metadata": {},
     "output_type": "execute_result"
    }
   ],
   "source": [
    "fake.head()"
   ]
  },
  {
   "cell_type": "code",
   "execution_count": 74,
   "id": "ac00ed66",
   "metadata": {
    "ExecuteTime": {
     "end_time": "2023-07-08T07:24:36.024374Z",
     "start_time": "2023-07-08T07:24:25.149606Z"
    }
   },
   "outputs": [],
   "source": [
    "fake['text']=fake['text'].apply(cleaning)"
   ]
  },
  {
   "cell_type": "code",
   "execution_count": 75,
   "id": "79483cb0",
   "metadata": {
    "ExecuteTime": {
     "end_time": "2023-07-08T07:24:36.055993Z",
     "start_time": "2023-07-08T07:24:36.024374Z"
    }
   },
   "outputs": [
    {
     "data": {
      "text/html": [
       "<div>\n",
       "<style scoped>\n",
       "    .dataframe tbody tr th:only-of-type {\n",
       "        vertical-align: middle;\n",
       "    }\n",
       "\n",
       "    .dataframe tbody tr th {\n",
       "        vertical-align: top;\n",
       "    }\n",
       "\n",
       "    .dataframe thead th {\n",
       "        text-align: right;\n",
       "    }\n",
       "</style>\n",
       "<table border=\"1\" class=\"dataframe\">\n",
       "  <thead>\n",
       "    <tr style=\"text-align: right;\">\n",
       "      <th></th>\n",
       "      <th>title</th>\n",
       "      <th>text</th>\n",
       "      <th>subject</th>\n",
       "      <th>year</th>\n",
       "      <th>Month</th>\n",
       "      <th>Year</th>\n",
       "    </tr>\n",
       "  </thead>\n",
       "  <tbody>\n",
       "    <tr>\n",
       "      <th>0</th>\n",
       "      <td>Donald Trump Sends Out Embarrassing New Year\u0019...</td>\n",
       "      <td>donald trump just couldn t wish all americans ...</td>\n",
       "      <td>worldnews</td>\n",
       "      <td>2017</td>\n",
       "      <td>12</td>\n",
       "      <td>2017</td>\n",
       "    </tr>\n",
       "    <tr>\n",
       "      <th>1</th>\n",
       "      <td>Drunk Bragging Trump Staffer Started Russian ...</td>\n",
       "      <td>house intelligence committee chairman devin nu...</td>\n",
       "      <td>worldnews</td>\n",
       "      <td>2017</td>\n",
       "      <td>12</td>\n",
       "      <td>2017</td>\n",
       "    </tr>\n",
       "    <tr>\n",
       "      <th>2</th>\n",
       "      <td>Sheriff David Clarke Becomes An Internet Joke...</td>\n",
       "      <td>on friday it was revealed that former milwauke...</td>\n",
       "      <td>worldnews</td>\n",
       "      <td>2017</td>\n",
       "      <td>12</td>\n",
       "      <td>2017</td>\n",
       "    </tr>\n",
       "    <tr>\n",
       "      <th>3</th>\n",
       "      <td>Trump Is So Obsessed He Even Has Obama\u0019s Name...</td>\n",
       "      <td>on christmas day donald trump announced that h...</td>\n",
       "      <td>worldnews</td>\n",
       "      <td>2017</td>\n",
       "      <td>12</td>\n",
       "      <td>2017</td>\n",
       "    </tr>\n",
       "    <tr>\n",
       "      <th>4</th>\n",
       "      <td>Pope Francis Just Called Out Donald Trump Dur...</td>\n",
       "      <td>pope francis used his annual christmas day mes...</td>\n",
       "      <td>worldnews</td>\n",
       "      <td>2017</td>\n",
       "      <td>12</td>\n",
       "      <td>2017</td>\n",
       "    </tr>\n",
       "  </tbody>\n",
       "</table>\n",
       "</div>"
      ],
      "text/plain": [
       "                                               title  \\\n",
       "0   Donald Trump Sends Out Embarrassing New Year\u0019...   \n",
       "1   Drunk Bragging Trump Staffer Started Russian ...   \n",
       "2   Sheriff David Clarke Becomes An Internet Joke...   \n",
       "3   Trump Is So Obsessed He Even Has Obama\u0019s Name...   \n",
       "4   Pope Francis Just Called Out Donald Trump Dur...   \n",
       "\n",
       "                                                text    subject  year  Month  \\\n",
       "0  donald trump just couldn t wish all americans ...  worldnews  2017     12   \n",
       "1  house intelligence committee chairman devin nu...  worldnews  2017     12   \n",
       "2  on friday it was revealed that former milwauke...  worldnews  2017     12   \n",
       "3  on christmas day donald trump announced that h...  worldnews  2017     12   \n",
       "4  pope francis used his annual christmas day mes...  worldnews  2017     12   \n",
       "\n",
       "   Year  \n",
       "0  2017  \n",
       "1  2017  \n",
       "2  2017  \n",
       "3  2017  \n",
       "4  2017  "
      ]
     },
     "execution_count": 75,
     "metadata": {},
     "output_type": "execute_result"
    }
   ],
   "source": [
    "fake.head() "
   ]
  },
  {
   "cell_type": "code",
   "execution_count": 76,
   "id": "613d1306",
   "metadata": {
    "ExecuteTime": {
     "end_time": "2023-07-08T07:25:11.124459Z",
     "start_time": "2023-07-08T07:24:46.042157Z"
    }
   },
   "outputs": [
    {
     "data": {
      "text/html": [
       "<div>\n",
       "<style scoped>\n",
       "    .dataframe tbody tr th:only-of-type {\n",
       "        vertical-align: middle;\n",
       "    }\n",
       "\n",
       "    .dataframe tbody tr th {\n",
       "        vertical-align: top;\n",
       "    }\n",
       "\n",
       "    .dataframe thead th {\n",
       "        text-align: right;\n",
       "    }\n",
       "</style>\n",
       "<table border=\"1\" class=\"dataframe\">\n",
       "  <thead>\n",
       "    <tr style=\"text-align: right;\">\n",
       "      <th></th>\n",
       "      <th>title</th>\n",
       "      <th>text</th>\n",
       "      <th>subject</th>\n",
       "      <th>year</th>\n",
       "      <th>Month</th>\n",
       "      <th>Year</th>\n",
       "      <th>num_words</th>\n",
       "    </tr>\n",
       "  </thead>\n",
       "  <tbody>\n",
       "    <tr>\n",
       "      <th>0</th>\n",
       "      <td>Donald Trump Sends Out Embarrassing New Year\u0019...</td>\n",
       "      <td>donald trump just couldn t wish all americans ...</td>\n",
       "      <td>worldnews</td>\n",
       "      <td>2017</td>\n",
       "      <td>12</td>\n",
       "      <td>2017</td>\n",
       "      <td>454</td>\n",
       "    </tr>\n",
       "    <tr>\n",
       "      <th>1</th>\n",
       "      <td>Drunk Bragging Trump Staffer Started Russian ...</td>\n",
       "      <td>house intelligence committee chairman devin nu...</td>\n",
       "      <td>worldnews</td>\n",
       "      <td>2017</td>\n",
       "      <td>12</td>\n",
       "      <td>2017</td>\n",
       "      <td>304</td>\n",
       "    </tr>\n",
       "    <tr>\n",
       "      <th>2</th>\n",
       "      <td>Sheriff David Clarke Becomes An Internet Joke...</td>\n",
       "      <td>on friday it was revealed that former milwauke...</td>\n",
       "      <td>worldnews</td>\n",
       "      <td>2017</td>\n",
       "      <td>12</td>\n",
       "      <td>2017</td>\n",
       "      <td>542</td>\n",
       "    </tr>\n",
       "    <tr>\n",
       "      <th>3</th>\n",
       "      <td>Trump Is So Obsessed He Even Has Obama\u0019s Name...</td>\n",
       "      <td>on christmas day donald trump announced that h...</td>\n",
       "      <td>worldnews</td>\n",
       "      <td>2017</td>\n",
       "      <td>12</td>\n",
       "      <td>2017</td>\n",
       "      <td>412</td>\n",
       "    </tr>\n",
       "    <tr>\n",
       "      <th>4</th>\n",
       "      <td>Pope Francis Just Called Out Donald Trump Dur...</td>\n",
       "      <td>pope francis used his annual christmas day mes...</td>\n",
       "      <td>worldnews</td>\n",
       "      <td>2017</td>\n",
       "      <td>12</td>\n",
       "      <td>2017</td>\n",
       "      <td>420</td>\n",
       "    </tr>\n",
       "  </tbody>\n",
       "</table>\n",
       "</div>"
      ],
      "text/plain": [
       "                                               title  \\\n",
       "0   Donald Trump Sends Out Embarrassing New Year\u0019...   \n",
       "1   Drunk Bragging Trump Staffer Started Russian ...   \n",
       "2   Sheriff David Clarke Becomes An Internet Joke...   \n",
       "3   Trump Is So Obsessed He Even Has Obama\u0019s Name...   \n",
       "4   Pope Francis Just Called Out Donald Trump Dur...   \n",
       "\n",
       "                                                text    subject  year  Month  \\\n",
       "0  donald trump just couldn t wish all americans ...  worldnews  2017     12   \n",
       "1  house intelligence committee chairman devin nu...  worldnews  2017     12   \n",
       "2  on friday it was revealed that former milwauke...  worldnews  2017     12   \n",
       "3  on christmas day donald trump announced that h...  worldnews  2017     12   \n",
       "4  pope francis used his annual christmas day mes...  worldnews  2017     12   \n",
       "\n",
       "   Year  num_words  \n",
       "0  2017        454  \n",
       "1  2017        304  \n",
       "2  2017        542  \n",
       "3  2017        412  \n",
       "4  2017        420  "
      ]
     },
     "execution_count": 76,
     "metadata": {},
     "output_type": "execute_result"
    }
   ],
   "source": [
    "#num of Words \n",
    "fake['num_words']=fake['text'].apply(lambda x:len(nltk.word_tokenize(x)))\n",
    "fake.head()\n",
    " "
   ]
  },
  {
   "cell_type": "code",
   "execution_count": 77,
   "id": "2d366825",
   "metadata": {
    "ExecuteTime": {
     "end_time": "2023-07-08T07:25:34.211571Z",
     "start_time": "2023-07-08T07:25:33.460013Z"
    }
   },
   "outputs": [],
   "source": [
    "#num of sentence \n",
    "fake['num_sent']=fake['text'].apply(lambda x:len(nltk.sent_tokenize(x)))\n",
    "del fake['num_sent'] "
   ]
  },
  {
   "cell_type": "code",
   "execution_count": 78,
   "id": "8786f99e",
   "metadata": {
    "ExecuteTime": {
     "end_time": "2023-07-08T07:25:38.346022Z",
     "start_time": "2023-07-08T07:25:34.379434Z"
    }
   },
   "outputs": [
    {
     "data": {
      "text/plain": [
       "the      517530\n",
       "to       285764\n",
       "of       231017\n",
       "and      220519\n",
       "a        207270\n",
       "in       161605\n",
       "that     148348\n",
       "s        127565\n",
       "is       109401\n",
       "for       90608\n",
       "on        80191\n",
       "it        77490\n",
       "he        76981\n",
       "trump     73023\n",
       "was       66854\n",
       "with      62059\n",
       "his       57517\n",
       "as        54542\n",
       "this      53488\n",
       "be        48026\n",
       "dtype: int64"
      ]
     },
     "execution_count": 78,
     "metadata": {},
     "output_type": "execute_result"
    }
   ],
   "source": [
    "#Word frequency for fake dataset\n",
    "freq = pd.Series(' '.join(fake['text']).split()).value_counts()[:20] # for top 50\n",
    "freq"
   ]
  },
  {
   "cell_type": "code",
   "execution_count": 79,
   "id": "dc2b141f",
   "metadata": {
    "ExecuteTime": {
     "end_time": "2023-07-08T07:26:06.036811Z",
     "start_time": "2023-07-08T07:25:49.535163Z"
    }
   },
   "outputs": [],
   "source": [
    "#removing stopwords\n",
    "from nltk.corpus import stopwords\n",
    "stop = stopwords.words('english')\n",
    "fake['text'] = fake['text'].apply(lambda x: \" \".join(x for x in x.split() if x not in stop))"
   ]
  },
  {
   "cell_type": "code",
   "execution_count": 80,
   "id": "12a6ee19",
   "metadata": {
    "ExecuteTime": {
     "end_time": "2023-07-08T07:26:07.779974Z",
     "start_time": "2023-07-08T07:26:06.039815Z"
    }
   },
   "outputs": [
    {
     "data": {
      "text/plain": [
       "trump        73023\n",
       "said         30872\n",
       "people       25770\n",
       "president    25303\n",
       "would        23199\n",
       "one          22503\n",
       "us           21558\n",
       "clinton      17679\n",
       "obama        17666\n",
       "like         17419\n",
       "donald       17026\n",
       "also         14896\n",
       "new          13870\n",
       "news         13816\n",
       "even         13511\n",
       "hillary      13354\n",
       "white        12652\n",
       "time         12573\n",
       "state        12184\n",
       "via          11134\n",
       "dtype: int64"
      ]
     },
     "execution_count": 80,
     "metadata": {},
     "output_type": "execute_result"
    }
   ],
   "source": [
    "#word frequency after removal of stopwords in fake dataset\n",
    "freq_fk = pd.Series(' '.join(fake['text']).split()).value_counts()[:20] # for top 50\n",
    "freq_fk "
   ]
  },
  {
   "cell_type": "code",
   "execution_count": 81,
   "id": "cac67e14",
   "metadata": {
    "ExecuteTime": {
     "end_time": "2023-07-08T07:26:12.280860Z",
     "start_time": "2023-07-08T07:26:12.266153Z"
    }
   },
   "outputs": [],
   "source": [
    "#Lets perfom lamatization into entire dataset\n",
    "def lemmatize_words(text):\n",
    "        lemma = nltk.WordNetLemmatizer()\n",
    "        words = text.split()\n",
    "        words = [lemma.lemmatize(word,pos='v') for word in words]\n",
    "        return ' '.join(words) "
   ]
  },
  {
   "cell_type": "code",
   "execution_count": 82,
   "id": "434bea4e",
   "metadata": {
    "ExecuteTime": {
     "end_time": "2023-07-08T07:26:47.094887Z",
     "start_time": "2023-07-08T07:26:21.021813Z"
    }
   },
   "outputs": [],
   "source": [
    "fake['text'] = fake['text'].apply(lemmatize_words) "
   ]
  },
  {
   "cell_type": "code",
   "execution_count": 83,
   "id": "99608f42",
   "metadata": {
    "ExecuteTime": {
     "end_time": "2023-07-08T07:26:48.882136Z",
     "start_time": "2023-07-08T07:26:47.097889Z"
    }
   },
   "outputs": [
    {
     "data": {
      "text/plain": [
       "trump        73363\n",
       "say          51332\n",
       "people       25861\n",
       "president    25303\n",
       "go           23742\n",
       "             ...  \n",
       "really        6125\n",
       "another       6049\n",
       "americans     6049\n",
       "day           6010\n",
       "every         5964\n",
       "Length: 100, dtype: int64"
      ]
     },
     "execution_count": 83,
     "metadata": {},
     "output_type": "execute_result"
    }
   ],
   "source": [
    "#word frequency after lamatization in fake dataset\n",
    "freq_fk = pd.Series(' '.join(fake['text']).split()).value_counts()[:100] # for top 100\n",
    "freq_fk "
   ]
  },
  {
   "cell_type": "markdown",
   "id": "534db2ed",
   "metadata": {},
   "source": [
    "# Now as per our analysis lets add the top 100 most frequently occuring common words into stop words"
   ]
  },
  {
   "cell_type": "markdown",
   "id": "694d12b1",
   "metadata": {},
   "source": [
    "# FAKE NEWS "
   ]
  },
  {
   "cell_type": "code",
   "execution_count": 86,
   "id": "f662068f",
   "metadata": {
    "ExecuteTime": {
     "end_time": "2023-07-08T07:27:23.429741Z",
     "start_time": "2023-07-08T07:27:23.413732Z"
    }
   },
   "outputs": [],
   "source": [
    "new_stopwords = ['trump','say','president','people','go','make','state','would','one','us','get','obama','clinton','time'] "
   ]
  },
  {
   "cell_type": "code",
   "execution_count": 87,
   "id": "709155cd",
   "metadata": {
    "ExecuteTime": {
     "end_time": "2023-07-08T07:27:32.812952Z",
     "start_time": "2023-07-08T07:27:32.798943Z"
    }
   },
   "outputs": [],
   "source": [
    "stop.extend(new_stopwords) "
   ]
  },
  {
   "cell_type": "code",
   "execution_count": 88,
   "id": "13fa1a57",
   "metadata": {
    "ExecuteTime": {
     "end_time": "2023-07-08T07:27:41.961601Z",
     "start_time": "2023-07-08T07:27:41.938743Z"
    }
   },
   "outputs": [
    {
     "data": {
      "text/plain": [
       "['i',\n",
       " 'me',\n",
       " 'my',\n",
       " 'myself',\n",
       " 'we',\n",
       " 'our',\n",
       " 'ours',\n",
       " 'ourselves',\n",
       " 'you',\n",
       " \"you're\",\n",
       " \"you've\",\n",
       " \"you'll\",\n",
       " \"you'd\",\n",
       " 'your',\n",
       " 'yours',\n",
       " 'yourself',\n",
       " 'yourselves',\n",
       " 'he',\n",
       " 'him',\n",
       " 'his',\n",
       " 'himself',\n",
       " 'she',\n",
       " \"she's\",\n",
       " 'her',\n",
       " 'hers',\n",
       " 'herself',\n",
       " 'it',\n",
       " \"it's\",\n",
       " 'its',\n",
       " 'itself',\n",
       " 'they',\n",
       " 'them',\n",
       " 'their',\n",
       " 'theirs',\n",
       " 'themselves',\n",
       " 'what',\n",
       " 'which',\n",
       " 'who',\n",
       " 'whom',\n",
       " 'this',\n",
       " 'that',\n",
       " \"that'll\",\n",
       " 'these',\n",
       " 'those',\n",
       " 'am',\n",
       " 'is',\n",
       " 'are',\n",
       " 'was',\n",
       " 'were',\n",
       " 'be',\n",
       " 'been',\n",
       " 'being',\n",
       " 'have',\n",
       " 'has',\n",
       " 'had',\n",
       " 'having',\n",
       " 'do',\n",
       " 'does',\n",
       " 'did',\n",
       " 'doing',\n",
       " 'a',\n",
       " 'an',\n",
       " 'the',\n",
       " 'and',\n",
       " 'but',\n",
       " 'if',\n",
       " 'or',\n",
       " 'because',\n",
       " 'as',\n",
       " 'until',\n",
       " 'while',\n",
       " 'of',\n",
       " 'at',\n",
       " 'by',\n",
       " 'for',\n",
       " 'with',\n",
       " 'about',\n",
       " 'against',\n",
       " 'between',\n",
       " 'into',\n",
       " 'through',\n",
       " 'during',\n",
       " 'before',\n",
       " 'after',\n",
       " 'above',\n",
       " 'below',\n",
       " 'to',\n",
       " 'from',\n",
       " 'up',\n",
       " 'down',\n",
       " 'in',\n",
       " 'out',\n",
       " 'on',\n",
       " 'off',\n",
       " 'over',\n",
       " 'under',\n",
       " 'again',\n",
       " 'further',\n",
       " 'then',\n",
       " 'once',\n",
       " 'here',\n",
       " 'there',\n",
       " 'when',\n",
       " 'where',\n",
       " 'why',\n",
       " 'how',\n",
       " 'all',\n",
       " 'any',\n",
       " 'both',\n",
       " 'each',\n",
       " 'few',\n",
       " 'more',\n",
       " 'most',\n",
       " 'other',\n",
       " 'some',\n",
       " 'such',\n",
       " 'no',\n",
       " 'nor',\n",
       " 'not',\n",
       " 'only',\n",
       " 'own',\n",
       " 'same',\n",
       " 'so',\n",
       " 'than',\n",
       " 'too',\n",
       " 'very',\n",
       " 's',\n",
       " 't',\n",
       " 'can',\n",
       " 'will',\n",
       " 'just',\n",
       " 'don',\n",
       " \"don't\",\n",
       " 'should',\n",
       " \"should've\",\n",
       " 'now',\n",
       " 'd',\n",
       " 'll',\n",
       " 'm',\n",
       " 'o',\n",
       " 're',\n",
       " 've',\n",
       " 'y',\n",
       " 'ain',\n",
       " 'aren',\n",
       " \"aren't\",\n",
       " 'couldn',\n",
       " \"couldn't\",\n",
       " 'didn',\n",
       " \"didn't\",\n",
       " 'doesn',\n",
       " \"doesn't\",\n",
       " 'hadn',\n",
       " \"hadn't\",\n",
       " 'hasn',\n",
       " \"hasn't\",\n",
       " 'haven',\n",
       " \"haven't\",\n",
       " 'isn',\n",
       " \"isn't\",\n",
       " 'ma',\n",
       " 'mightn',\n",
       " \"mightn't\",\n",
       " 'mustn',\n",
       " \"mustn't\",\n",
       " 'needn',\n",
       " \"needn't\",\n",
       " 'shan',\n",
       " \"shan't\",\n",
       " 'shouldn',\n",
       " \"shouldn't\",\n",
       " 'wasn',\n",
       " \"wasn't\",\n",
       " 'weren',\n",
       " \"weren't\",\n",
       " 'won',\n",
       " \"won't\",\n",
       " 'wouldn',\n",
       " \"wouldn't\",\n",
       " 'trump',\n",
       " 'say',\n",
       " 'president',\n",
       " 'people',\n",
       " 'go',\n",
       " 'make',\n",
       " 'state',\n",
       " 'would',\n",
       " 'one',\n",
       " 'us',\n",
       " 'get',\n",
       " 'obama',\n",
       " 'clinton',\n",
       " 'time']"
      ]
     },
     "execution_count": 88,
     "metadata": {},
     "output_type": "execute_result"
    }
   ],
   "source": [
    "stop "
   ]
  },
  {
   "cell_type": "code",
   "execution_count": 89,
   "id": "c733a113",
   "metadata": {
    "ExecuteTime": {
     "end_time": "2023-07-08T07:28:21.567716Z",
     "start_time": "2023-07-08T07:28:08.407141Z"
    }
   },
   "outputs": [],
   "source": [
    "fake['text'] = fake['text'].apply(lambda x: \" \".join(x for x in x.split() if x not in stop)) "
   ]
  },
  {
   "cell_type": "code",
   "execution_count": 90,
   "id": "03b85c20",
   "metadata": {
    "ExecuteTime": {
     "end_time": "2023-07-08T07:28:21.586121Z",
     "start_time": "2023-07-08T07:28:21.570491Z"
    }
   },
   "outputs": [],
   "source": [
    "stop = nltk.corpus.stopwords.words('english')\n",
    "stop.extend(new_stopwords) "
   ]
  },
  {
   "cell_type": "code",
   "execution_count": 91,
   "id": "913af632",
   "metadata": {
    "ExecuteTime": {
     "end_time": "2023-07-08T07:28:28.250815Z",
     "start_time": "2023-07-08T07:28:28.230760Z"
    }
   },
   "outputs": [
    {
     "data": {
      "text/plain": [
       "0        donald wish americans happy new year leave ins...\n",
       "1        house intelligence committee chairman devin nu...\n",
       "2        friday reveal former milwaukee sheriff david c...\n",
       "3        christmas day donald announce back work follow...\n",
       "4        pope francis use annual christmas day message ...\n",
       "                               ...                        \n",
       "23497    century wire report earlier week unlikely mish...\n",
       "23498    century wire familiar theme whenever dispute c...\n",
       "23499    patrick henningsen century wireremember admini...\n",
       "23500    century wire al jazeera america history bigges...\n",
       "23501    century wire predict new year look ahead new h...\n",
       "Name: text, Length: 23447, dtype: object"
      ]
     },
     "execution_count": 91,
     "metadata": {},
     "output_type": "execute_result"
    }
   ],
   "source": [
    "fake['text'] "
   ]
  },
  {
   "cell_type": "markdown",
   "id": "449fbe52",
   "metadata": {},
   "source": [
    "# TRUE DATASET\n",
    " "
   ]
  },
  {
   "cell_type": "code",
   "execution_count": 92,
   "id": "7c19c27d",
   "metadata": {
    "ExecuteTime": {
     "end_time": "2023-07-08T07:28:48.442481Z",
     "start_time": "2023-07-08T07:28:38.646190Z"
    }
   },
   "outputs": [],
   "source": [
    "true['text']=true['text'].apply(cleaning) "
   ]
  },
  {
   "cell_type": "code",
   "execution_count": 93,
   "id": "182df42d",
   "metadata": {
    "ExecuteTime": {
     "end_time": "2023-07-08T07:29:52.016772Z",
     "start_time": "2023-07-08T07:29:49.557329Z"
    }
   },
   "outputs": [
    {
     "data": {
      "text/plain": [
       "the      476192\n",
       "to       242177\n",
       "of       202525\n",
       "a        195425\n",
       "and      179473\n",
       "in       178443\n",
       "on       106976\n",
       "said      97782\n",
       "that      86037\n",
       "for       78806\n",
       "is        54799\n",
       "with      53871\n",
       "he        52656\n",
       "was       47321\n",
       "by        47085\n",
       "as        46710\n",
       "it        46039\n",
       "has       45657\n",
       "s         44026\n",
       "trump     42081\n",
       "dtype: int64"
      ]
     },
     "execution_count": 93,
     "metadata": {},
     "output_type": "execute_result"
    }
   ],
   "source": [
    "#Word frequency for true dataset\n",
    "freq = pd.Series(' '.join(true['text']).split()).value_counts()[:20] # for top 50\n",
    "freq"
   ]
  },
  {
   "cell_type": "code",
   "execution_count": 94,
   "id": "fbea160e",
   "metadata": {
    "ExecuteTime": {
     "end_time": "2023-07-08T07:30:21.024423Z",
     "start_time": "2023-07-08T07:30:06.845572Z"
    }
   },
   "outputs": [],
   "source": [
    "#removing stopwords\n",
    "stop = stopwords.words('english')\n",
    "true['text'] = true['text'].apply(lambda x: \" \".join(x for x in x.split() if x not in stop))"
   ]
  },
  {
   "cell_type": "code",
   "execution_count": 95,
   "id": "1647c316",
   "metadata": {
    "ExecuteTime": {
     "end_time": "2023-07-08T07:30:36.672254Z",
     "start_time": "2023-07-08T07:30:21.027422Z"
    }
   },
   "outputs": [
    {
     "data": {
      "text/html": [
       "<div>\n",
       "<style scoped>\n",
       "    .dataframe tbody tr th:only-of-type {\n",
       "        vertical-align: middle;\n",
       "    }\n",
       "\n",
       "    .dataframe tbody tr th {\n",
       "        vertical-align: top;\n",
       "    }\n",
       "\n",
       "    .dataframe thead th {\n",
       "        text-align: right;\n",
       "    }\n",
       "</style>\n",
       "<table border=\"1\" class=\"dataframe\">\n",
       "  <thead>\n",
       "    <tr style=\"text-align: right;\">\n",
       "      <th></th>\n",
       "      <th>ï»¿title</th>\n",
       "      <th>text</th>\n",
       "      <th>subject</th>\n",
       "      <th>year</th>\n",
       "      <th>Month</th>\n",
       "      <th>Year</th>\n",
       "      <th>num_words</th>\n",
       "    </tr>\n",
       "  </thead>\n",
       "  <tbody>\n",
       "    <tr>\n",
       "      <th>0</th>\n",
       "      <td>As U.S. budget fight looms, Republicans flip t...</td>\n",
       "      <td>washington reuters head conservative republica...</td>\n",
       "      <td>politicsNews</td>\n",
       "      <td>2017</td>\n",
       "      <td>12</td>\n",
       "      <td>2017</td>\n",
       "      <td>442</td>\n",
       "    </tr>\n",
       "    <tr>\n",
       "      <th>1</th>\n",
       "      <td>U.S. military to accept transgender recruits o...</td>\n",
       "      <td>washington reuters transgender people allowed ...</td>\n",
       "      <td>politicsNews</td>\n",
       "      <td>2017</td>\n",
       "      <td>12</td>\n",
       "      <td>2017</td>\n",
       "      <td>376</td>\n",
       "    </tr>\n",
       "    <tr>\n",
       "      <th>2</th>\n",
       "      <td>Senior U.S. Republican senator: 'Let Mr. Muell...</td>\n",
       "      <td>washington reuters special counsel investigati...</td>\n",
       "      <td>politicsNews</td>\n",
       "      <td>2017</td>\n",
       "      <td>12</td>\n",
       "      <td>2017</td>\n",
       "      <td>262</td>\n",
       "    </tr>\n",
       "    <tr>\n",
       "      <th>3</th>\n",
       "      <td>FBI Russia probe helped by Australian diplomat...</td>\n",
       "      <td>washington reuters trump campaign adviser geor...</td>\n",
       "      <td>politicsNews</td>\n",
       "      <td>2017</td>\n",
       "      <td>12</td>\n",
       "      <td>2017</td>\n",
       "      <td>227</td>\n",
       "    </tr>\n",
       "    <tr>\n",
       "      <th>4</th>\n",
       "      <td>Trump wants Postal Service to charge 'much mor...</td>\n",
       "      <td>seattlewashington reuters president donald tru...</td>\n",
       "      <td>politicsNews</td>\n",
       "      <td>2017</td>\n",
       "      <td>12</td>\n",
       "      <td>2017</td>\n",
       "      <td>486</td>\n",
       "    </tr>\n",
       "  </tbody>\n",
       "</table>\n",
       "</div>"
      ],
      "text/plain": [
       "                                            ï»¿title  \\\n",
       "0  As U.S. budget fight looms, Republicans flip t...   \n",
       "1  U.S. military to accept transgender recruits o...   \n",
       "2  Senior U.S. Republican senator: 'Let Mr. Muell...   \n",
       "3  FBI Russia probe helped by Australian diplomat...   \n",
       "4  Trump wants Postal Service to charge 'much mor...   \n",
       "\n",
       "                                                text       subject  year  \\\n",
       "0  washington reuters head conservative republica...  politicsNews  2017   \n",
       "1  washington reuters transgender people allowed ...  politicsNews  2017   \n",
       "2  washington reuters special counsel investigati...  politicsNews  2017   \n",
       "3  washington reuters trump campaign adviser geor...  politicsNews  2017   \n",
       "4  seattlewashington reuters president donald tru...  politicsNews  2017   \n",
       "\n",
       "   Month  Year  num_words  \n",
       "0     12  2017        442  \n",
       "1     12  2017        376  \n",
       "2     12  2017        262  \n",
       "3     12  2017        227  \n",
       "4     12  2017        486  "
      ]
     },
     "execution_count": 95,
     "metadata": {},
     "output_type": "execute_result"
    }
   ],
   "source": [
    "#num of Words \n",
    "true['num_words']=true['text'].apply(lambda x:len(nltk.word_tokenize(x)))\n",
    "true.head()\n",
    " "
   ]
  },
  {
   "cell_type": "code",
   "execution_count": 97,
   "id": "aa14ac3e",
   "metadata": {
    "ExecuteTime": {
     "end_time": "2023-07-08T07:31:34.580824Z",
     "start_time": "2023-07-08T07:31:33.051208Z"
    }
   },
   "outputs": [
    {
     "data": {
      "text/plain": [
       "said          97782\n",
       "trump         42081\n",
       "us            40647\n",
       "would         31160\n",
       "reuters       28003\n",
       "president     25246\n",
       "state         18536\n",
       "government    17706\n",
       "new           16626\n",
       "house         16253\n",
       "states        16145\n",
       "also          15749\n",
       "united        15347\n",
       "republican    15205\n",
       "people        14910\n",
       "told          14071\n",
       "could         13528\n",
       "one           12505\n",
       "last          12472\n",
       "washington    12051\n",
       "dtype: int64"
      ]
     },
     "execution_count": 97,
     "metadata": {},
     "output_type": "execute_result"
    }
   ],
   "source": [
    "#word frequency after removal of stopwords in fake dataset\n",
    "freq_tr = pd.Series(' '.join(true['text']).split()).value_counts()[:20] # for top 20\n",
    "freq_tr "
   ]
  },
  {
   "cell_type": "code",
   "execution_count": 98,
   "id": "94168549",
   "metadata": {
    "ExecuteTime": {
     "end_time": "2023-07-08T07:32:06.249024Z",
     "start_time": "2023-07-08T07:31:44.496907Z"
    }
   },
   "outputs": [],
   "source": [
    "#Lets Perform Lamatization\n",
    "true['text'] = true['text'].apply(lemmatize_words) "
   ]
  },
  {
   "cell_type": "code",
   "execution_count": 99,
   "id": "284efb0c",
   "metadata": {
    "ExecuteTime": {
     "end_time": "2023-07-08T07:32:07.884712Z",
     "start_time": "2023-07-08T07:32:06.252712Z"
    }
   },
   "outputs": [
    {
     "data": {
      "text/plain": [
       "say        113447\n",
       "trump       42185\n",
       "us          40647\n",
       "state       34926\n",
       "would       31160\n",
       "            ...  \n",
       "help         6433\n",
       "federal      6385\n",
       "talk         6342\n",
       "million      6325\n",
       "lead         6311\n",
       "Length: 100, dtype: int64"
      ]
     },
     "execution_count": 99,
     "metadata": {},
     "output_type": "execute_result"
    }
   ],
   "source": [
    "#word frequency after lamatization in true dataset\n",
    "freq_tr = pd.Series(' '.join(true['text']).split()).value_counts()[:100] # for top 100\n",
    "freq_tr "
   ]
  },
  {
   "cell_type": "code",
   "execution_count": 100,
   "id": "1a344207",
   "metadata": {
    "ExecuteTime": {
     "end_time": "2023-07-08T07:32:07.900711Z",
     "start_time": "2023-07-08T07:32:07.887709Z"
    }
   },
   "outputs": [
    {
     "data": {
      "text/plain": [
       "0        washington reuters head conservative republica...\n",
       "1        washington reuters transgender people allow fi...\n",
       "2        washington reuters special counsel investigati...\n",
       "3        washington reuters trump campaign adviser geor...\n",
       "4        seattlewashington reuters president donald tru...\n",
       "                               ...                        \n",
       "21412    brussels reuters nato ally tuesday welcome pre...\n",
       "21413    london reuters lexisnexis provider legal regul...\n",
       "21414    minsk reuters shadow disused sovietera factori...\n",
       "21415    moscow reuters vatican secretary state cardina...\n",
       "21416    jakarta reuters indonesia buy sukhoi fighter j...\n",
       "Name: text, Length: 21211, dtype: object"
      ]
     },
     "execution_count": 100,
     "metadata": {},
     "output_type": "execute_result"
    }
   ],
   "source": [
    "true['text'] "
   ]
  },
  {
   "cell_type": "code",
   "execution_count": 101,
   "id": "5831641e",
   "metadata": {
    "ExecuteTime": {
     "end_time": "2023-07-08T07:32:49.183925Z",
     "start_time": "2023-07-08T07:32:48.259749Z"
    }
   },
   "outputs": [
    {
     "data": {
      "text/plain": [
       "<Axes: xlabel='num_words', ylabel='Count'>"
      ]
     },
     "execution_count": 101,
     "metadata": {},
     "output_type": "execute_result"
    },
    {
     "data": {
      "image/png": "[encoded data removed]",
      "text/plain": [
       "<Figure size 1200x600 with 1 Axes>"
      ]
     },
     "metadata": {},
     "output_type": "display_data"
    }
   ],
   "source": [
    "plt.figure(figsize=(12,6))\n",
    "sns.histplot(fake['num_words'])\n",
    "sns.histplot(true['num_words'],color='red')"
   ]
  },
  {
   "cell_type": "markdown",
   "id": "e9c3f8c2",
   "metadata": {},
   "source": [
    "# We can see that in true news we have more words in comparision to fake news"
   ]
  },
  {
   "cell_type": "markdown",
   "id": "f0339078",
   "metadata": {},
   "source": [
    "Creating a dataframe 'data'\n",
    "Adding an Target vaeriable into our data frame assigning 1 to true and 0 to fake"
   ]
  },
  {
   "cell_type": "code",
   "execution_count": 102,
   "id": "518aea9d",
   "metadata": {
    "ExecuteTime": {
     "end_time": "2023-07-08T07:33:43.353411Z",
     "start_time": "2023-07-08T07:33:43.341173Z"
    }
   },
   "outputs": [],
   "source": [
    "#add column \n",
    "true['target'] = 1\n",
    "fake['target'] = 0  "
   ]
  },
  {
   "cell_type": "code",
   "execution_count": 103,
   "id": "fb68f932",
   "metadata": {
    "ExecuteTime": {
     "end_time": "2023-07-08T07:33:55.446735Z",
     "start_time": "2023-07-08T07:33:55.413227Z"
    }
   },
   "outputs": [],
   "source": [
    "data=pd.concat([true,fake],ignore_index=True,sort=False) "
   ]
  },
  {
   "cell_type": "code",
   "execution_count": 104,
   "id": "fa71631e",
   "metadata": {
    "ExecuteTime": {
     "end_time": "2023-07-08T07:34:05.329768Z",
     "start_time": "2023-07-08T07:34:05.276025Z"
    }
   },
   "outputs": [],
   "source": [
    "from sklearn.utils import shuffle\n",
    "data=shuffle(data)\n",
    "data=data.reset_index(drop=True) "
   ]
  },
  {
   "cell_type": "code",
   "execution_count": 105,
   "id": "92fe602f",
   "metadata": {
    "ExecuteTime": {
     "end_time": "2023-07-08T07:34:13.907436Z",
     "start_time": "2023-07-08T07:34:13.891294Z"
    }
   },
   "outputs": [
    {
     "data": {
      "text/html": [
       "<div>\n",
       "<style scoped>\n",
       "    .dataframe tbody tr th:only-of-type {\n",
       "        vertical-align: middle;\n",
       "    }\n",
       "\n",
       "    .dataframe tbody tr th {\n",
       "        vertical-align: top;\n",
       "    }\n",
       "\n",
       "    .dataframe thead th {\n",
       "        text-align: right;\n",
       "    }\n",
       "</style>\n",
       "<table border=\"1\" class=\"dataframe\">\n",
       "  <thead>\n",
       "    <tr style=\"text-align: right;\">\n",
       "      <th></th>\n",
       "      <th>ï»¿title</th>\n",
       "      <th>text</th>\n",
       "      <th>subject</th>\n",
       "      <th>year</th>\n",
       "      <th>Month</th>\n",
       "      <th>Year</th>\n",
       "      <th>num_words</th>\n",
       "      <th>target</th>\n",
       "      <th>title</th>\n",
       "    </tr>\n",
       "  </thead>\n",
       "  <tbody>\n",
       "    <tr>\n",
       "      <th>0</th>\n",
       "      <td>NaN</td>\n",
       "      <td>wow thrill leg chris matthews stun support hil...</td>\n",
       "      <td>politicsNews</td>\n",
       "      <td>2016</td>\n",
       "      <td>11</td>\n",
       "      <td>2016</td>\n",
       "      <td>304</td>\n",
       "      <td>0</td>\n",
       "      <td>WHOA! 3 WELL-KNOWN Democrats Go NUCLEAR On Hil...</td>\n",
       "    </tr>\n",
       "    <tr>\n",
       "      <th>1</th>\n",
       "      <td>NaN</td>\n",
       "      <td>donald may spend furiously tweet russia invest...</td>\n",
       "      <td>worldnews</td>\n",
       "      <td>2017</td>\n",
       "      <td>5</td>\n",
       "      <td>2017</td>\n",
       "      <td>389</td>\n",
       "      <td>0</td>\n",
       "      <td>Chris Wallace Just Shoved His Foot So Far Up ...</td>\n",
       "    </tr>\n",
       "    <tr>\n",
       "      <th>2</th>\n",
       "      <td>Support for anti-immigration Sweden Democrats ...</td>\n",
       "      <td>stockholm reuters support farright antiimmigra...</td>\n",
       "      <td>worldnews</td>\n",
       "      <td>2017</td>\n",
       "      <td>12</td>\n",
       "      <td>2017</td>\n",
       "      <td>167</td>\n",
       "      <td>1</td>\n",
       "      <td>NaN</td>\n",
       "    </tr>\n",
       "    <tr>\n",
       "      <th>3</th>\n",
       "      <td>NaN</td>\n",
       "      <td>campaign event riviera beach florida bill spea...</td>\n",
       "      <td>worldnews</td>\n",
       "      <td>2016</td>\n",
       "      <td>2</td>\n",
       "      <td>2016</td>\n",
       "      <td>377</td>\n",
       "      <td>0</td>\n",
       "      <td>Bill Clinton Hilariously Smacks Down Obnoxiou...</td>\n",
       "    </tr>\n",
       "    <tr>\n",
       "      <th>4</th>\n",
       "      <td>Democrats raise doubts about Trump's high cour...</td>\n",
       "      <td>washington reuters neil gorsuch president dona...</td>\n",
       "      <td>politicsNews</td>\n",
       "      <td>2017</td>\n",
       "      <td>3</td>\n",
       "      <td>2017</td>\n",
       "      <td>557</td>\n",
       "      <td>1</td>\n",
       "      <td>NaN</td>\n",
       "    </tr>\n",
       "  </tbody>\n",
       "</table>\n",
       "</div>"
      ],
      "text/plain": [
       "                                            ï»¿title  \\\n",
       "0                                                NaN   \n",
       "1                                                NaN   \n",
       "2  Support for anti-immigration Sweden Democrats ...   \n",
       "3                                                NaN   \n",
       "4  Democrats raise doubts about Trump's high cour...   \n",
       "\n",
       "                                                text       subject  year  \\\n",
       "0  wow thrill leg chris matthews stun support hil...  politicsNews  2016   \n",
       "1  donald may spend furiously tweet russia invest...     worldnews  2017   \n",
       "2  stockholm reuters support farright antiimmigra...     worldnews  2017   \n",
       "3  campaign event riviera beach florida bill spea...     worldnews  2016   \n",
       "4  washington reuters neil gorsuch president dona...  politicsNews  2017   \n",
       "\n",
       "   Month  Year  num_words  target  \\\n",
       "0     11  2016        304       0   \n",
       "1      5  2017        389       0   \n",
       "2     12  2017        167       1   \n",
       "3      2  2016        377       0   \n",
       "4      3  2017        557       1   \n",
       "\n",
       "                                               title  \n",
       "0  WHOA! 3 WELL-KNOWN Democrats Go NUCLEAR On Hil...  \n",
       "1   Chris Wallace Just Shoved His Foot So Far Up ...  \n",
       "2                                                NaN  \n",
       "3   Bill Clinton Hilariously Smacks Down Obnoxiou...  \n",
       "4                                                NaN  "
      ]
     },
     "execution_count": 105,
     "metadata": {},
     "output_type": "execute_result"
    }
   ],
   "source": [
    "data.head() "
   ]
  },
  {
   "cell_type": "markdown",
   "id": "436aa991",
   "metadata": {},
   "source": [
    "# Data visualization "
   ]
  },
  {
   "cell_type": "code",
   "execution_count": 106,
   "id": "bc4d930f",
   "metadata": {
    "ExecuteTime": {
     "end_time": "2023-07-08T07:35:34.345458Z",
     "start_time": "2023-07-08T07:35:34.107843Z"
    }
   },
   "outputs": [
    {
     "data": {
      "image/png": "[encoded data removed]",
      "text/plain": [
       "<Figure size 1900x500 with 2 Axes>"
      ]
     },
     "metadata": {},
     "output_type": "display_data"
    }
   ],
   "source": [
    "fig, ax = plt.subplots(1,2, figsize=(19, 5))\n",
    "g1 = sns.countplot(data =data,x ='target',ax = ax[0]);\n",
    "g1.set_title(\"Count of true and fake data\")\n",
    "g1.set_ylabel(\"Count\")\n",
    "g1.set_xlabel(\"Target\")\n",
    "g2 = plt.pie(data[\"target\"].value_counts().values,explode=[0,0],labels=data.target.value_counts().index, autopct='%1.1f%%',colors=['SkyBlue','PeachPuff'])\n",
    "plt.show()"
   ]
  },
  {
   "cell_type": "code",
   "execution_count": 107,
   "id": "f16041cd",
   "metadata": {
    "ExecuteTime": {
     "end_time": "2023-07-08T07:35:48.176405Z",
     "start_time": "2023-07-08T07:35:47.805561Z"
    }
   },
   "outputs": [
    {
     "data": {
      "text/plain": [
       "<Axes: >"
      ]
     },
     "execution_count": 107,
     "metadata": {},
     "output_type": "execute_result"
    },
    {
     "data": {
      "image/png": "[encoded data removed]",
      "text/plain": [
       "<Figure size 1100x800 with 2 Axes>"
      ]
     },
     "metadata": {},
     "output_type": "display_data"
    }
   ],
   "source": [
    "sns.heatmap(data.corr(),annot=True) "
   ]
  },
  {
   "cell_type": "markdown",
   "id": "247a5830",
   "metadata": {},
   "source": [
    "# But before moving towards model building techniques lets see if out target variable is effected by the sentiments of the text or not , this might be an important factor lets see "
   ]
  },
  {
   "cell_type": "code",
   "execution_count": 108,
   "id": "4215207f",
   "metadata": {
    "ExecuteTime": {
     "end_time": "2023-07-08T07:36:16.292177Z",
     "start_time": "2023-07-08T07:36:16.262548Z"
    }
   },
   "outputs": [],
   "source": [
    "from nltk.sentiment import SentimentIntensityAnalyzer\n",
    "sia= SentimentIntensityAnalyzer() "
   ]
  },
  {
   "cell_type": "code",
   "execution_count": 109,
   "id": "9dc65551",
   "metadata": {
    "ExecuteTime": {
     "end_time": "2023-07-08T07:36:25.934359Z",
     "start_time": "2023-07-08T07:36:25.920747Z"
    }
   },
   "outputs": [],
   "source": [
    "check=data.text[0] "
   ]
  },
  {
   "cell_type": "code",
   "execution_count": 110,
   "id": "65d659a7",
   "metadata": {
    "ExecuteTime": {
     "end_time": "2023-07-08T07:36:35.543231Z",
     "start_time": "2023-07-08T07:36:35.528885Z"
    }
   },
   "outputs": [
    {
     "data": {
      "text/plain": [
       "{'neg': 0.123, 'neu': 0.543, 'pos': 0.334, 'compound': 0.9826}"
      ]
     },
     "execution_count": 110,
     "metadata": {},
     "output_type": "execute_result"
    }
   ],
   "source": [
    "sia.polarity_scores(check) "
   ]
  },
  {
   "cell_type": "markdown",
   "id": "1da6b9f9",
   "metadata": {},
   "source": [
    "# Although the text is fake but we are getting possitive polarity for sentimental analysis soo we can say its of no use\n",
    "Model Building\n",
    "Using TFIDF MAX FEATURES = 1000# "
   ]
  },
  {
   "cell_type": "code",
   "execution_count": 111,
   "id": "1b4037b3",
   "metadata": {
    "ExecuteTime": {
     "end_time": "2023-07-08T07:37:19.551360Z",
     "start_time": "2023-07-08T07:37:19.528615Z"
    }
   },
   "outputs": [
    {
     "data": {
      "text/html": [
       "<div>\n",
       "<style scoped>\n",
       "    .dataframe tbody tr th:only-of-type {\n",
       "        vertical-align: middle;\n",
       "    }\n",
       "\n",
       "    .dataframe tbody tr th {\n",
       "        vertical-align: top;\n",
       "    }\n",
       "\n",
       "    .dataframe thead th {\n",
       "        text-align: right;\n",
       "    }\n",
       "</style>\n",
       "<table border=\"1\" class=\"dataframe\">\n",
       "  <thead>\n",
       "    <tr style=\"text-align: right;\">\n",
       "      <th></th>\n",
       "      <th>ï»¿title</th>\n",
       "      <th>text</th>\n",
       "      <th>subject</th>\n",
       "      <th>year</th>\n",
       "      <th>Month</th>\n",
       "      <th>Year</th>\n",
       "      <th>num_words</th>\n",
       "      <th>target</th>\n",
       "      <th>title</th>\n",
       "    </tr>\n",
       "  </thead>\n",
       "  <tbody>\n",
       "    <tr>\n",
       "      <th>0</th>\n",
       "      <td>NaN</td>\n",
       "      <td>wow thrill leg chris matthews stun support hil...</td>\n",
       "      <td>politicsNews</td>\n",
       "      <td>2016</td>\n",
       "      <td>11</td>\n",
       "      <td>2016</td>\n",
       "      <td>304</td>\n",
       "      <td>0</td>\n",
       "      <td>WHOA! 3 WELL-KNOWN Democrats Go NUCLEAR On Hil...</td>\n",
       "    </tr>\n",
       "    <tr>\n",
       "      <th>1</th>\n",
       "      <td>NaN</td>\n",
       "      <td>donald may spend furiously tweet russia invest...</td>\n",
       "      <td>worldnews</td>\n",
       "      <td>2017</td>\n",
       "      <td>5</td>\n",
       "      <td>2017</td>\n",
       "      <td>389</td>\n",
       "      <td>0</td>\n",
       "      <td>Chris Wallace Just Shoved His Foot So Far Up ...</td>\n",
       "    </tr>\n",
       "    <tr>\n",
       "      <th>2</th>\n",
       "      <td>Support for anti-immigration Sweden Democrats ...</td>\n",
       "      <td>stockholm reuters support farright antiimmigra...</td>\n",
       "      <td>worldnews</td>\n",
       "      <td>2017</td>\n",
       "      <td>12</td>\n",
       "      <td>2017</td>\n",
       "      <td>167</td>\n",
       "      <td>1</td>\n",
       "      <td>NaN</td>\n",
       "    </tr>\n",
       "    <tr>\n",
       "      <th>3</th>\n",
       "      <td>NaN</td>\n",
       "      <td>campaign event riviera beach florida bill spea...</td>\n",
       "      <td>worldnews</td>\n",
       "      <td>2016</td>\n",
       "      <td>2</td>\n",
       "      <td>2016</td>\n",
       "      <td>377</td>\n",
       "      <td>0</td>\n",
       "      <td>Bill Clinton Hilariously Smacks Down Obnoxiou...</td>\n",
       "    </tr>\n",
       "    <tr>\n",
       "      <th>4</th>\n",
       "      <td>Democrats raise doubts about Trump's high cour...</td>\n",
       "      <td>washington reuters neil gorsuch president dona...</td>\n",
       "      <td>politicsNews</td>\n",
       "      <td>2017</td>\n",
       "      <td>3</td>\n",
       "      <td>2017</td>\n",
       "      <td>557</td>\n",
       "      <td>1</td>\n",
       "      <td>NaN</td>\n",
       "    </tr>\n",
       "  </tbody>\n",
       "</table>\n",
       "</div>"
      ],
      "text/plain": [
       "                                            ï»¿title  \\\n",
       "0                                                NaN   \n",
       "1                                                NaN   \n",
       "2  Support for anti-immigration Sweden Democrats ...   \n",
       "3                                                NaN   \n",
       "4  Democrats raise doubts about Trump's high cour...   \n",
       "\n",
       "                                                text       subject  year  \\\n",
       "0  wow thrill leg chris matthews stun support hil...  politicsNews  2016   \n",
       "1  donald may spend furiously tweet russia invest...     worldnews  2017   \n",
       "2  stockholm reuters support farright antiimmigra...     worldnews  2017   \n",
       "3  campaign event riviera beach florida bill spea...     worldnews  2016   \n",
       "4  washington reuters neil gorsuch president dona...  politicsNews  2017   \n",
       "\n",
       "   Month  Year  num_words  target  \\\n",
       "0     11  2016        304       0   \n",
       "1      5  2017        389       0   \n",
       "2     12  2017        167       1   \n",
       "3      2  2016        377       0   \n",
       "4      3  2017        557       1   \n",
       "\n",
       "                                               title  \n",
       "0  WHOA! 3 WELL-KNOWN Democrats Go NUCLEAR On Hil...  \n",
       "1   Chris Wallace Just Shoved His Foot So Far Up ...  \n",
       "2                                                NaN  \n",
       "3   Bill Clinton Hilariously Smacks Down Obnoxiou...  \n",
       "4                                                NaN  "
      ]
     },
     "execution_count": 111,
     "metadata": {},
     "output_type": "execute_result"
    }
   ],
   "source": [
    "data.head() "
   ]
  },
  {
   "cell_type": "code",
   "execution_count": 112,
   "id": "9a50572c",
   "metadata": {
    "ExecuteTime": {
     "end_time": "2023-07-08T07:38:00.368605Z",
     "start_time": "2023-07-08T07:37:29.230462Z"
    }
   },
   "outputs": [],
   "source": [
    "from sklearn.feature_extraction.text import TfidfVectorizer\n",
    "vectorizer = TfidfVectorizer(stop_words='english', max_features= 1000, max_df = 0.5, smooth_idf=True) #keep top 1000 words\n",
    "doc_vec = vectorizer.fit_transform(data[\"text\"])\n",
    "names_features = vectorizer.get_feature_names_out()\n",
    "dense = doc_vec.todense()\n",
    "denselist = dense.tolist()\n",
    "x= pd.DataFrame(denselist, columns = names_features) "
   ]
  },
  {
   "cell_type": "code",
   "execution_count": 113,
   "id": "998fd21f",
   "metadata": {
    "ExecuteTime": {
     "end_time": "2023-07-08T07:38:00.430075Z",
     "start_time": "2023-07-08T07:38:00.401880Z"
    }
   },
   "outputs": [],
   "source": [
    "y=data['target'] "
   ]
  },
  {
   "cell_type": "code",
   "execution_count": 114,
   "id": "3a589502",
   "metadata": {
    "ExecuteTime": {
     "end_time": "2023-07-08T07:38:00.967873Z",
     "start_time": "2023-07-08T07:38:00.435076Z"
    }
   },
   "outputs": [],
   "source": [
    "from sklearn.model_selection import train_test_split\n",
    "x_train,x_test,y_train,y_test=train_test_split(x,y,test_size=0.2,random_state=2) "
   ]
  },
  {
   "cell_type": "code",
   "execution_count": 115,
   "id": "728f47d0",
   "metadata": {
    "ExecuteTime": {
     "end_time": "2023-07-08T07:38:07.221008Z",
     "start_time": "2023-07-08T07:38:07.210008Z"
    }
   },
   "outputs": [],
   "source": [
    "from sklearn.naive_bayes import GaussianNB,MultinomialNB,BernoulliNB\n",
    "from sklearn.metrics import accuracy_score,confusion_matrix,precision_score "
   ]
  },
  {
   "cell_type": "code",
   "execution_count": 116,
   "id": "86b6b36f",
   "metadata": {
    "ExecuteTime": {
     "end_time": "2023-07-08T07:38:11.439513Z",
     "start_time": "2023-07-08T07:38:11.431520Z"
    }
   },
   "outputs": [],
   "source": [
    "gnb=GaussianNB()\n",
    "mnb=MultinomialNB()\n",
    "bnb=BernoulliNB() "
   ]
  },
  {
   "cell_type": "code",
   "execution_count": 117,
   "id": "ffed1426",
   "metadata": {
    "ExecuteTime": {
     "end_time": "2023-07-08T07:38:22.030083Z",
     "start_time": "2023-07-08T07:38:20.875553Z"
    }
   },
   "outputs": [
    {
     "name": "stdout",
     "output_type": "stream",
     "text": [
      "0.9762651141961487\n",
      "[[4457  209]\n",
      " [   3 4263]]\n",
      "0.9532647584973166\n"
     ]
    }
   ],
   "source": [
    "gnb.fit(x_train,y_train)\n",
    "y_pred1=gnb.predict(x_test)\n",
    "print(accuracy_score(y_test,y_pred1))\n",
    "print(confusion_matrix(y_test,y_pred1))\n",
    "print(precision_score(y_test,y_pred1)) "
   ]
  },
  {
   "cell_type": "code",
   "execution_count": 118,
   "id": "5115b319",
   "metadata": {
    "ExecuteTime": {
     "end_time": "2023-07-08T07:38:31.130226Z",
     "start_time": "2023-07-08T07:38:30.804352Z"
    }
   },
   "outputs": [
    {
     "name": "stdout",
     "output_type": "stream",
     "text": [
      "0.9766009852216748\n",
      "[[4474  192]\n",
      " [  17 4249]]\n",
      "0.9567664940328755\n"
     ]
    }
   ],
   "source": [
    "mnb.fit(x_train,y_train)\n",
    "y_pred1=mnb.predict(x_test)\n",
    "print(accuracy_score(y_test,y_pred1))\n",
    "print(confusion_matrix(y_test,y_pred1))\n",
    "print(precision_score(y_test,y_pred1)) "
   ]
  },
  {
   "cell_type": "code",
   "execution_count": 119,
   "id": "73314b5e",
   "metadata": {
    "ExecuteTime": {
     "end_time": "2023-07-08T07:38:41.286867Z",
     "start_time": "2023-07-08T07:38:40.442680Z"
    }
   },
   "outputs": [
    {
     "name": "stdout",
     "output_type": "stream",
     "text": [
      "0.9894760412001792\n",
      "[[4584   82]\n",
      " [  12 4254]]\n",
      "0.9810885608856088\n"
     ]
    }
   ],
   "source": [
    "bnb.fit(x_train,y_train)\n",
    "y_pred1=bnb.predict(x_test)\n",
    "print(accuracy_score(y_test,y_pred1))\n",
    "print(confusion_matrix(y_test,y_pred1))\n",
    "print(precision_score(y_test,y_pred1)) "
   ]
  },
  {
   "cell_type": "code",
   "execution_count": null,
   "id": "ce7b75a7",
   "metadata": {
    "ExecuteTime": {
     "end_time": "2023-07-08T07:43:24.131933Z",
     "start_time": "2023-07-08T07:43:24.131933Z"
    }
   },
   "outputs": [],
   "source": [
    "from sklearn.linear_model import LogisticRegression\n",
    "from sklearn.svm import SVC\n",
    "from sklearn.naive_bayes import MultinomialNB\n",
    "from sklearn.tree import DecisionTreeClassifier\n",
    "from sklearn.neighbors import KNeighborsClassifier\n",
    "from sklearn.ensemble import RandomForestClassifier\n",
    "from sklearn.ensemble import AdaBoostClassifier\n",
    "from sklearn.ensemble import GradientBoostingClassifier\n",
    "import numpy as np"
   ]
  },
  {
   "cell_type": "code",
   "execution_count": 121,
   "id": "139de84d",
   "metadata": {
    "ExecuteTime": {
     "end_time": "2023-07-08T07:39:11.046554Z",
     "start_time": "2023-07-08T07:39:11.036558Z"
    }
   },
   "outputs": [],
   "source": [
    "svc = SVC(kernel='sigmoid', gamma=1.0)\n",
    "knc = KNeighborsClassifier()\n",
    "mnb = MultinomialNB()\n",
    "dtc = DecisionTreeClassifier(max_depth=5)\n",
    "lrc = LogisticRegression(solver='liblinear', penalty='l1')\n",
    "rfc = RandomForestClassifier(n_estimators=50, random_state=2)\n",
    "abc = AdaBoostClassifier(n_estimators=50, random_state=2)\n",
    "gbdt = GradientBoostingClassifier(n_estimators=50,random_state=2) "
   ]
  },
  {
   "cell_type": "code",
   "execution_count": 122,
   "id": "d109cdc8",
   "metadata": {
    "ExecuteTime": {
     "end_time": "2023-07-08T07:39:20.911417Z",
     "start_time": "2023-07-08T07:39:20.905414Z"
    }
   },
   "outputs": [],
   "source": [
    "clfs = {\n",
    "    'SVC' : svc,\n",
    "    'KN' : knc, \n",
    "    'NB': bnb, \n",
    "    'DT': dtc, \n",
    "    'LR': lrc, \n",
    "    'RF': rfc, \n",
    "    'AdaBoost': abc, \n",
    "    'GBDT':gbdt,\n",
    "    \n",
    "} "
   ]
  },
  {
   "cell_type": "code",
   "execution_count": 123,
   "id": "929dbd8e",
   "metadata": {
    "ExecuteTime": {
     "end_time": "2023-07-08T07:39:31.105663Z",
     "start_time": "2023-07-08T07:39:31.098670Z"
    }
   },
   "outputs": [],
   "source": [
    "def train_classifier(clf,X_train,y_train,X_test,y_test):\n",
    "    clf.fit(X_train,y_train)\n",
    "    y_pred = clf.predict(X_test)\n",
    "    accuracy = accuracy_score(y_test,y_pred)\n",
    "    precision = precision_score(y_test,y_pred)\n",
    "    \n",
    "    return accuracy,precision "
   ]
  },
  {
   "cell_type": "code",
   "execution_count": 124,
   "id": "333ccd56",
   "metadata": {
    "ExecuteTime": {
     "end_time": "2023-07-08T07:40:25.132272Z",
     "start_time": "2023-07-08T07:39:40.377281Z"
    }
   },
   "outputs": [
    {
     "data": {
      "text/plain": [
       "(0.9985445588893864, 0.9997649823736781)"
      ]
     },
     "execution_count": 124,
     "metadata": {},
     "output_type": "execute_result"
    }
   ],
   "source": [
    "train_classifier(svc,x_train,y_train,x_test,y_test) "
   ]
  },
  {
   "cell_type": "code",
   "execution_count": null,
   "id": "376c01cb",
   "metadata": {
    "ExecuteTime": {
     "end_time": "2023-07-08T07:43:24.134934Z",
     "start_time": "2023-07-08T07:43:24.134934Z"
    }
   },
   "outputs": [],
   "source": [
    "accuracy_scores = []\n",
    "precision_scores = []\n",
    "\n",
    "for name,clf in clfs.items():\n",
    "    \n",
    "    current_accuracy,current_precision = train_classifier(clf, x_train,y_train,x_test,y_test)\n",
    "    \n",
    "    print(\"For \",name)\n",
    "    print(\"Accuracy - \",current_accuracy)\n",
    "    print(\"Precision - \",current_precision)\n",
    "    \n",
    "    accuracy_scores.append(current_accuracy)\n",
    "    precision_scores.append(current_precision) "
   ]
  },
  {
   "cell_type": "code",
   "execution_count": null,
   "id": "b1daf1d5",
   "metadata": {
    "ExecuteTime": {
     "end_time": "2023-07-08T07:43:24.137937Z",
     "start_time": "2023-07-08T07:43:24.137937Z"
    }
   },
   "outputs": [],
   "source": [
    "performance_df = pd.DataFrame({'Algorithm':clfs.keys(),'Accuracy':accuracy_scores,'Precision':precision_scores}).sort_values( "
   ]
  },
  {
   "cell_type": "code",
   "execution_count": null,
   "id": "e7ba7f5d",
   "metadata": {
    "ExecuteTime": {
     "end_time": "2023-07-08T07:43:24.140936Z",
     "start_time": "2023-07-08T07:43:24.140936Z"
    }
   },
   "outputs": [],
   "source": [
    "performance_df "
   ]
  },
  {
   "cell_type": "code",
   "execution_count": null,
   "id": "c42d932b",
   "metadata": {},
   "outputs": [],
   "source": []
  }
 ],
 "metadata": {
  "kernelspec": {
   "display_name": "Python 3 (ipykernel)",
   "language": "python",
   "name": "python3"
  },
  "language_info": {
   "codemirror_mode": {
    "name": "ipython",
    "version": 3
   },
   "file_extension": ".py",
   "mimetype": "text/x-python",
   "name": "python",
   "nbconvert_exporter": "python",
   "pygments_lexer": "ipython3",
   "version": "3.10.9"
  }
 },
 "nbformat": 4,
 "nbformat_minor": 5
}
